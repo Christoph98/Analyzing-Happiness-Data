{
 "cells": [
  {
   "cell_type": "markdown",
   "metadata": {},
   "source": [
    "# Understanding Happiness\n",
    "Christoph Uhl, 12/7/2019.\n",
    "\n",
    "**All code is my own.**\n",
    "\n",
    "But comments like `this`, are my professor's words. They guided me through the first part. Normal text I wrote myself.\n",
    "\n",
    "`In this assignment I will explore happiness in the US using the General Social Survey, a database of survey results conducted by NORC at the University of Chicago from 1972 to present. The main research question here is: what makes people happy? Or, more specifically, what activities or life choices are most clearly correlated with self-reported happiness. And, over a long period of time, how have these trends changed.`\n",
    "\n",
    "That is the introduction provided to me from my professor. But in my own words: \n",
    "\n",
    "In this notebook I first analyze data and attempt to find the answer to questions provided by my professor. Then, I pose my own hypotheses and test them, following only my intuition."
   ]
  },
  {
   "cell_type": "code",
   "execution_count": 1,
   "metadata": {},
   "outputs": [],
   "source": [
    "import numpy as np\n",
    "import pandas as pd\n",
    "import matplotlib.pyplot as plt"
   ]
  },
  {
   "cell_type": "markdown",
   "metadata": {},
   "source": [
    "## Part 1: Training Wheels"
   ]
  },
  {
   "cell_type": "markdown",
   "metadata": {},
   "source": [
    "`To get you started, we’ll walk through some basic data processing and analysis.`\n",
    "\n",
    "`Your task is to perform some statistical analyses to look at correlations between happiness and other variables, and then to fit a model using some of these variables.`\n",
    "\n",
    "`First, let’s read in the first 1000 rows of the data to have a look at it:`"
   ]
  },
  {
   "cell_type": "code",
   "execution_count": 2,
   "metadata": {},
   "outputs": [
    {
     "data": {
      "text/html": [
       "<div>\n",
       "<style scoped>\n",
       "    .dataframe tbody tr th:only-of-type {\n",
       "        vertical-align: middle;\n",
       "    }\n",
       "\n",
       "    .dataframe tbody tr th {\n",
       "        vertical-align: top;\n",
       "    }\n",
       "\n",
       "    .dataframe thead th {\n",
       "        text-align: right;\n",
       "    }\n",
       "</style>\n",
       "<table border=\"1\" class=\"dataframe\">\n",
       "  <thead>\n",
       "    <tr style=\"text-align: right;\">\n",
       "      <th></th>\n",
       "      <th>YEAR</th>\n",
       "      <th>ID</th>\n",
       "      <th>WRKSTAT</th>\n",
       "      <th>HRS1</th>\n",
       "      <th>HRS2</th>\n",
       "      <th>EVWORK</th>\n",
       "      <th>OCC</th>\n",
       "      <th>PRESTIGE</th>\n",
       "      <th>WRKSLF</th>\n",
       "      <th>WRKGOVT</th>\n",
       "      <th>...</th>\n",
       "      <th>NEISAFE</th>\n",
       "      <th>RLOOKS</th>\n",
       "      <th>RGROOMED</th>\n",
       "      <th>RWEIGHT</th>\n",
       "      <th>RHLTHEND</th>\n",
       "      <th>WTSS</th>\n",
       "      <th>WTSSNR</th>\n",
       "      <th>WTSSALL</th>\n",
       "      <th>VSTRAT</th>\n",
       "      <th>VPSU</th>\n",
       "    </tr>\n",
       "  </thead>\n",
       "  <tbody>\n",
       "    <tr>\n",
       "      <th>0</th>\n",
       "      <td>1972</td>\n",
       "      <td>1</td>\n",
       "      <td>1</td>\n",
       "      <td>-1</td>\n",
       "      <td>-1</td>\n",
       "      <td>0</td>\n",
       "      <td>205</td>\n",
       "      <td>50</td>\n",
       "      <td>2</td>\n",
       "      <td>0</td>\n",
       "      <td>...</td>\n",
       "      <td>0</td>\n",
       "      <td>0</td>\n",
       "      <td>0</td>\n",
       "      <td>0</td>\n",
       "      <td>0</td>\n",
       "      <td>1</td>\n",
       "      <td>1</td>\n",
       "      <td>0.4446</td>\n",
       "      <td>-1</td>\n",
       "      <td>-1</td>\n",
       "    </tr>\n",
       "    <tr>\n",
       "      <th>1</th>\n",
       "      <td>1972</td>\n",
       "      <td>2</td>\n",
       "      <td>5</td>\n",
       "      <td>-1</td>\n",
       "      <td>-1</td>\n",
       "      <td>1</td>\n",
       "      <td>441</td>\n",
       "      <td>45</td>\n",
       "      <td>2</td>\n",
       "      <td>0</td>\n",
       "      <td>...</td>\n",
       "      <td>0</td>\n",
       "      <td>0</td>\n",
       "      <td>0</td>\n",
       "      <td>0</td>\n",
       "      <td>0</td>\n",
       "      <td>1</td>\n",
       "      <td>1</td>\n",
       "      <td>0.8893</td>\n",
       "      <td>-1</td>\n",
       "      <td>-1</td>\n",
       "    </tr>\n",
       "    <tr>\n",
       "      <th>2</th>\n",
       "      <td>1972</td>\n",
       "      <td>3</td>\n",
       "      <td>2</td>\n",
       "      <td>-1</td>\n",
       "      <td>-1</td>\n",
       "      <td>0</td>\n",
       "      <td>270</td>\n",
       "      <td>44</td>\n",
       "      <td>2</td>\n",
       "      <td>0</td>\n",
       "      <td>...</td>\n",
       "      <td>0</td>\n",
       "      <td>0</td>\n",
       "      <td>0</td>\n",
       "      <td>0</td>\n",
       "      <td>0</td>\n",
       "      <td>1</td>\n",
       "      <td>1</td>\n",
       "      <td>0.8893</td>\n",
       "      <td>-1</td>\n",
       "      <td>-1</td>\n",
       "    </tr>\n",
       "    <tr>\n",
       "      <th>3</th>\n",
       "      <td>1972</td>\n",
       "      <td>4</td>\n",
       "      <td>1</td>\n",
       "      <td>-1</td>\n",
       "      <td>-1</td>\n",
       "      <td>0</td>\n",
       "      <td>1</td>\n",
       "      <td>57</td>\n",
       "      <td>2</td>\n",
       "      <td>0</td>\n",
       "      <td>...</td>\n",
       "      <td>0</td>\n",
       "      <td>0</td>\n",
       "      <td>0</td>\n",
       "      <td>0</td>\n",
       "      <td>0</td>\n",
       "      <td>1</td>\n",
       "      <td>1</td>\n",
       "      <td>0.8893</td>\n",
       "      <td>-1</td>\n",
       "      <td>-1</td>\n",
       "    </tr>\n",
       "    <tr>\n",
       "      <th>4</th>\n",
       "      <td>1972</td>\n",
       "      <td>5</td>\n",
       "      <td>7</td>\n",
       "      <td>-1</td>\n",
       "      <td>-1</td>\n",
       "      <td>1</td>\n",
       "      <td>385</td>\n",
       "      <td>40</td>\n",
       "      <td>2</td>\n",
       "      <td>0</td>\n",
       "      <td>...</td>\n",
       "      <td>0</td>\n",
       "      <td>0</td>\n",
       "      <td>0</td>\n",
       "      <td>0</td>\n",
       "      <td>0</td>\n",
       "      <td>1</td>\n",
       "      <td>1</td>\n",
       "      <td>0.8893</td>\n",
       "      <td>-1</td>\n",
       "      <td>-1</td>\n",
       "    </tr>\n",
       "  </tbody>\n",
       "</table>\n",
       "<p>5 rows × 6108 columns</p>\n",
       "</div>"
      ],
      "text/plain": [
       "   YEAR  ID  WRKSTAT  HRS1  HRS2  EVWORK  OCC  PRESTIGE  WRKSLF  WRKGOVT  \\\n",
       "0  1972   1        1    -1    -1       0  205        50       2        0   \n",
       "1  1972   2        5    -1    -1       1  441        45       2        0   \n",
       "2  1972   3        2    -1    -1       0  270        44       2        0   \n",
       "3  1972   4        1    -1    -1       0    1        57       2        0   \n",
       "4  1972   5        7    -1    -1       1  385        40       2        0   \n",
       "\n",
       "   ...   NEISAFE  RLOOKS  RGROOMED  RWEIGHT  RHLTHEND  WTSS  WTSSNR  WTSSALL  \\\n",
       "0  ...         0       0         0        0         0     1       1   0.4446   \n",
       "1  ...         0       0         0        0         0     1       1   0.8893   \n",
       "2  ...         0       0         0        0         0     1       1   0.8893   \n",
       "3  ...         0       0         0        0         0     1       1   0.8893   \n",
       "4  ...         0       0         0        0         0     1       1   0.8893   \n",
       "\n",
       "   VSTRAT  VPSU  \n",
       "0      -1    -1  \n",
       "1      -1    -1  \n",
       "2      -1    -1  \n",
       "3      -1    -1  \n",
       "4      -1    -1  \n",
       "\n",
       "[5 rows x 6108 columns]"
      ]
     },
     "execution_count": 2,
     "metadata": {},
     "output_type": "execute_result"
    }
   ],
   "source": [
    "shortDf = pd.read_csv(\"gss.csv.bz2\", nrows = 1000)\n",
    "shortDf.head()"
   ]
  },
  {
   "cell_type": "markdown",
   "metadata": {},
   "source": [
    "`There are a few questions (columns) that relate to the respondant’s happiness. Let’s take a look at those:`"
   ]
  },
  {
   "cell_type": "code",
   "execution_count": 3,
   "metadata": {
    "scrolled": true
   },
   "outputs": [
    {
     "name": "stdout",
     "output_type": "stream",
     "text": [
      "count    1000.0\n",
      "mean        0.0\n",
      "std         0.0\n",
      "min         0.0\n",
      "25%         0.0\n",
      "50%         0.0\n",
      "75%         0.0\n",
      "max         0.0\n",
      "Name: HAPPY7, dtype: float64\n",
      "count    1000.00000\n",
      "mean        1.86600\n",
      "std         0.79415\n",
      "min         1.00000\n",
      "25%         1.00000\n",
      "50%         2.00000\n",
      "75%         2.00000\n",
      "max         9.00000\n",
      "Name: HAPPY, dtype: float64\n",
      "count    1000.0\n",
      "mean        0.0\n",
      "std         0.0\n",
      "min         0.0\n",
      "25%         0.0\n",
      "50%         0.0\n",
      "75%         0.0\n",
      "max         0.0\n",
      "Name: HAPUNHAP, dtype: float64\n"
     ]
    }
   ],
   "source": [
    "print(shortDf[\"HAPPY7\"].describe())\n",
    "print(shortDf[\"HAPPY\"].describe())\n",
    "print(shortDf[\"HAPUNHAP\"].describe())"
   ]
  },
  {
   "cell_type": "markdown",
   "metadata": {},
   "source": [
    "`According to the data and the code book, HAPPY is the only one with good coverage over the duration of data collection, so let’s focus on that one.`"
   ]
  },
  {
   "cell_type": "markdown",
   "metadata": {},
   "source": [
    "We need to make sure that we look at the data in its categorical meaning. Therefore, we will simmply replace all of the values in the Happy column based on the dictionary 'happyCategories'"
   ]
  },
  {
   "cell_type": "code",
   "execution_count": 4,
   "metadata": {},
   "outputs": [
    {
     "data": {
      "text/plain": [
       "count             1000\n",
       "unique               4\n",
       "top       Pretty happy\n",
       "freq               544\n",
       "Name: HAPPY, dtype: object"
      ]
     },
     "execution_count": 4,
     "metadata": {},
     "output_type": "execute_result"
    }
   ],
   "source": [
    "#lets tell the program that this data is categorical. \n",
    "happyCategories = {1:\"Very happy\",2:\"Pretty happy\",3:\"Not too happy\",8:\"Don't know\",9:\"No answer\",0:\"Not applicable\"}\n",
    "shortDf[\"HAPPY\"] = shortDf[\"HAPPY\"].replace(happyCategories) #map(lambda x: myDict[x], shortDf[\"HAPPY\"])\n",
    "shortDf[\"HAPPY\"].describe()"
   ]
  },
  {
   "cell_type": "markdown",
   "metadata": {},
   "source": [
    "`Looks like most people are 'pretty happy'! Let's hypothesize that happy people are also healthy people.` Let's check it out! \n",
    "\n",
    "Converting the numeric values to corresponding categorical values just like before, but with different names."
   ]
  },
  {
   "cell_type": "code",
   "execution_count": 5,
   "metadata": {},
   "outputs": [
    {
     "data": {
      "text/plain": [
       "count     1000\n",
       "unique       5\n",
       "top       Good\n",
       "freq       450\n",
       "Name: HEALTH, dtype: object"
      ]
     },
     "execution_count": 5,
     "metadata": {},
     "output_type": "execute_result"
    }
   ],
   "source": [
    "healthCategories = {1:\"Excellent\", 2:\"Good\", 3:\"Fair\", 4:\"Poor\", 8:\"Don’t know\", 9:\"No answer\", 0:\"Not applicable\"}\n",
    "shortDf[\"HEALTH\"] = shortDf[\"HEALTH\"].replace(healthCategories) #map(lambda x: myDict[x], shortDf[\"HAPPY\"])\n",
    "shortDf[\"HEALTH\"].describe()"
   ]
  },
  {
   "cell_type": "markdown",
   "metadata": {},
   "source": [
    "Really what we want to do is get a feel for how happy and health columns are related, so we can use a contingency table. However, there datapoints in the columns that ar 'no answer' and 'not applicable'. So we should probably not include them."
   ]
  },
  {
   "cell_type": "code",
   "execution_count": 6,
   "metadata": {},
   "outputs": [],
   "source": [
    "cleanDf = shortDf.loc[(shortDf[\"HAPPY\"] != \"Not applicable\") & (shortDf[\"HAPPY\"] != \"Don’t know\") & (shortDf[\"HAPPY\"] != \"No answer\")]\n",
    "cleanDf = cleanDf.loc[(cleanDf[\"HEALTH\"] != \"Not applicable\") & (cleanDf[\"HEALTH\"] != \"Don’t know\") & (cleanDf[\"HEALTH\"] != \"No answer\")]\n",
    "# cleanDf = shortDf.loc[shortDf[\"HAPPY\"] != 0]\n",
    "# cleanDf = cleanDf[cleanDf[\"HAPPY\"] != 9]"
   ]
  },
  {
   "cell_type": "code",
   "execution_count": 7,
   "metadata": {},
   "outputs": [
    {
     "name": "stdout",
     "output_type": "stream",
     "text": [
      "count              995\n",
      "unique               3\n",
      "top       Pretty happy\n",
      "freq               543\n",
      "Name: HAPPY, dtype: object\n",
      "count      995\n",
      "unique       4\n",
      "top       Good\n",
      "freq       450\n",
      "Name: HEALTH, dtype: object\n"
     ]
    }
   ],
   "source": [
    "print(cleanDf[\"HAPPY\"].describe())\n",
    "print(cleanDf[\"HEALTH\"].describe())"
   ]
  },
  {
   "cell_type": "code",
   "execution_count": 8,
   "metadata": {},
   "outputs": [
    {
     "data": {
      "text/html": [
       "<div>\n",
       "<style scoped>\n",
       "    .dataframe tbody tr th:only-of-type {\n",
       "        vertical-align: middle;\n",
       "    }\n",
       "\n",
       "    .dataframe tbody tr th {\n",
       "        vertical-align: top;\n",
       "    }\n",
       "\n",
       "    .dataframe thead th {\n",
       "        text-align: right;\n",
       "    }\n",
       "</style>\n",
       "<table border=\"1\" class=\"dataframe\">\n",
       "  <thead>\n",
       "    <tr style=\"text-align: right;\">\n",
       "      <th>HEALTH</th>\n",
       "      <th>Poor</th>\n",
       "      <th>Fair</th>\n",
       "      <th>Good</th>\n",
       "      <th>Excellent</th>\n",
       "      <th>All</th>\n",
       "    </tr>\n",
       "    <tr>\n",
       "      <th>HAPPY</th>\n",
       "      <th></th>\n",
       "      <th></th>\n",
       "      <th></th>\n",
       "      <th></th>\n",
       "      <th></th>\n",
       "    </tr>\n",
       "  </thead>\n",
       "  <tbody>\n",
       "    <tr>\n",
       "      <th>Not too happy</th>\n",
       "      <td>19</td>\n",
       "      <td>38</td>\n",
       "      <td>59</td>\n",
       "      <td>29</td>\n",
       "      <td>145</td>\n",
       "    </tr>\n",
       "    <tr>\n",
       "      <th>Pretty happy</th>\n",
       "      <td>24</td>\n",
       "      <td>113</td>\n",
       "      <td>265</td>\n",
       "      <td>141</td>\n",
       "      <td>543</td>\n",
       "    </tr>\n",
       "    <tr>\n",
       "      <th>Very happy</th>\n",
       "      <td>6</td>\n",
       "      <td>51</td>\n",
       "      <td>126</td>\n",
       "      <td>124</td>\n",
       "      <td>307</td>\n",
       "    </tr>\n",
       "    <tr>\n",
       "      <th>All</th>\n",
       "      <td>49</td>\n",
       "      <td>202</td>\n",
       "      <td>450</td>\n",
       "      <td>294</td>\n",
       "      <td>995</td>\n",
       "    </tr>\n",
       "  </tbody>\n",
       "</table>\n",
       "</div>"
      ],
      "text/plain": [
       "HEALTH         Poor  Fair  Good  Excellent  All\n",
       "HAPPY                                          \n",
       "Not too happy    19    38    59         29  145\n",
       "Pretty happy     24   113   265        141  543\n",
       "Very happy        6    51   126        124  307\n",
       "All              49   202   450        294  995"
      ]
     },
     "execution_count": 8,
     "metadata": {},
     "output_type": "execute_result"
    }
   ],
   "source": [
    "contingency_table = pd.crosstab(cleanDf[\"HAPPY\"], cleanDf[\"HEALTH\"], margins=True)\n",
    "contingency_table = contingency_table[[\"Poor\", \"Fair\", \"Good\", \"Excellent\", \"All\"]]\n",
    "contingency_table"
   ]
  },
  {
   "cell_type": "markdown",
   "metadata": {},
   "source": [
    "### ------------------- Q1 -------------------"
   ]
  },
  {
   "cell_type": "markdown",
   "metadata": {},
   "source": [
    "`Q1: Take a look at this contingency table. From a first look, does it appear that there’s any relationship between the variables? Are healthy people more likely to be happy or unhappy? How about unhealthy people?`"
   ]
  },
  {
   "cell_type": "markdown",
   "metadata": {},
   "source": [
    "Looking at this contingency table, it seems like that there is a visible relationship between the Health and Happy variables. The best value for Health - Excellent - has a low count with the worst Happy variable ('Not too happy'), and a high count with the medium and highest Happy variables.\n",
    "\n",
    "Health's 'Good' category has really high count with Happy's 'Pretty happy' and a high count with the 'Very happy' category. Albeit 'Good' health also has the highest count with the 'Not too happy' out of any health category. \n",
    "\n",
    "Health's 'Fair' category has a similar low count for Happy's 'Not too happy', and 'Very happy' cateogries and a high count . However, since there are less than half as many 'Not too happy entries' as there are 'Very happy' entries, Health's fair category has a higher proportion of counts to Happy's 'Not too happy' category. I.e. people that indicated that they were 'not too happy' are more likely to choose that their health is 'Fair' than those that indicated that they were 'very happy'.\n",
    "\n",
    "Health's 'Poor' category has a relatively high count for 'not too happy' and 'pretty happy', but here again, since there are 4 times more counts for the 'pretty happy' category than the'not too happy' category, there is a high relation between poor health and being 'not too happy'. There also seems to be a strong indication that people with poor health do not indicate that they are 'very happy'.\n",
    "\n",
    "To sum it up, it looks like healthy people are more likely to be happy than unhappy. And unhealthy people are also more likely to indicate that they are unhappy rather than being happy."
   ]
  },
  {
   "cell_type": "markdown",
   "metadata": {},
   "source": [
    "`Using a Chi-squared test, we can measure how likely it is that these data are independent (i.e., that there is no correlation or dependency between them).`\n",
    "\n",
    "### ------------------- Q2 -------------------\n",
    "`Q2: Try performing a chi-squared test on these two factors. Are they independent or does it appear that happiness and health are interrelated? Why?`"
   ]
  },
  {
   "cell_type": "markdown",
   "metadata": {},
   "source": [
    "Using a chi-squared test to measure the likelihood of these data being independent:"
   ]
  },
  {
   "cell_type": "code",
   "execution_count": 10,
   "metadata": {},
   "outputs": [
    {
     "name": "stdout",
     "output_type": "stream",
     "text": [
      "Chi-squared test returns a p-value of: 1.4625840402568319e-09\n"
     ]
    }
   ],
   "source": [
    "from scipy import stats\n",
    "\n",
    "usable = contingency_table.iloc[:-1,:-1]\n",
    "obs = usable.values.tolist()\n",
    "indices = list(usable.index)\n",
    "cols = list(usable.columns)\n",
    "\n",
    "chi2_stat, p_val, dof, expVals = stats.chi2_contingency(obs)\n",
    "print(\"Chi-squared test returns a p-value of:\", p_val)"
   ]
  },
  {
   "cell_type": "markdown",
   "metadata": {},
   "source": [
    "The returned p-value of a chi-squared test is $p = 1.46 \\cdot 10^{-9}$. Which tells us that we have statistically significant evidence to reject a null-hypthesis of the two variables 'HEALTH' and 'HAPPY' being independent, thus showing that they are very likely dependent variables.\n",
    "\n",
    "The variables \"HEALTH\" and \"HAPPY\" being related makes a lot of sense, since healthy people do not have as many physical restraints from doing the things that makes them happy. Furthermore, those that are healthy likely have more energy available to spend on whatever they feel like, thus giving them more feelings of abundance."
   ]
  },
  {
   "cell_type": "markdown",
   "metadata": {},
   "source": [
    "Next, let's look at the numeric variable 'AGE'."
   ]
  },
  {
   "cell_type": "code",
   "execution_count": 11,
   "metadata": {},
   "outputs": [
    {
     "name": "stdout",
     "output_type": "stream",
     "text": [
      "[99, 99, 88, 88, 85, 85, 84, 84, 84, 83]\n",
      "995\n"
     ]
    }
   ],
   "source": [
    "ageList = cleanDf[\"AGE\"].tolist()\n",
    "ageList.sort(reverse=True)\n",
    "print(ageList[:10])\n",
    "print(len(ageList))"
   ]
  },
  {
   "cell_type": "markdown",
   "metadata": {},
   "source": [
    "As you can see, age 99 is likely the highest that this survey allowed for, and likely these ages were indicated by people who may not have take the survey very seriously. Nonetheless, for now, let's not worry about this, as there are only 2 such instances out of 995. It will add a bit of noise, but that is okay.\n",
    "\n",
    "Let's make a boxplot with whiskers:"
   ]
  },
  {
   "cell_type": "code",
   "execution_count": 12,
   "metadata": {},
   "outputs": [
    {
     "data": {
      "image/png": "[encoded data removed]",
      "text/plain": [
       "<Figure size 864x432 with 1 Axes>"
      ]
     },
     "metadata": {
      "needs_background": "light"
     },
     "output_type": "display_data"
    }
   ],
   "source": [
    "boxes = [cleanDf[cleanDf[\"HAPPY\"] == cat][\"AGE\"] for cat in happyCategories.values()][:3]\n",
    "\n",
    "fig,ax = plt.subplots(figsize=(12,6))\n",
    "ax.boxplot(boxes)\n",
    "ax.set_xticklabels(list(happyCategories.values())[:3])\n",
    "ax.set_ylabel(\"Age\")\n",
    "ax.set_title(\"Age distribution for different Happiness levels\")\n",
    "\n",
    "plt.show()"
   ]
  },
  {
   "cell_type": "markdown",
   "metadata": {},
   "source": [
    "The 99 values actually make the boxplot look different than it would be without. So let's try again but without age variables of 99. Please note that the following example drops, entirely, the rows that include age=99."
   ]
  },
  {
   "cell_type": "code",
   "execution_count": 13,
   "metadata": {},
   "outputs": [
    {
     "data": {
      "image/png": "[encoded data removed]",
      "text/plain": [
       "<Figure size 864x432 with 1 Axes>"
      ]
     },
     "metadata": {
      "needs_background": "light"
     },
     "output_type": "display_data"
    }
   ],
   "source": [
    "altDf = cleanDf[cleanDf[\"AGE\"] != 99]\n",
    "alt_boxes = [altDf[altDf[\"HAPPY\"] == cat][\"AGE\"] for cat in happyCategories.values()][:3]\n",
    "\n",
    "fig,ax = plt.subplots(figsize=(12,6))\n",
    "ax.boxplot(alt_boxes)\n",
    "ax.set_xticklabels(list(happyCategories.values())[:3])\n",
    "ax.set_ylabel(\"Age\")\n",
    "ax.set_title(\"Age distribution for different Happiness levels\")\n",
    "\n",
    "plt.show()"
   ]
  },
  {
   "cell_type": "markdown",
   "metadata": {},
   "source": [
    "Surprisingly different! To the human eye at least... Although, even with this change, all 3 boxplots look about the same, so I would predict that we won't find much dependency. We might find a slight correlation, as the median age of those that chose 'Not too happy' is a little higher than the other two.\n",
    "\n",
    "So let's not count on the human eye and use a statistical test to better understand their relationships.\n",
    "\n",
    "`We can use an Analysis of Variance (ANOVA) to test whether there’s a significant difference in the mean age between each happiness group.`\n",
    "\n",
    "The idea is that we decide if the means of the different distributions are approximately the same, or if they are different. Since we have more than 2 variables, let use ANOVA.\n",
    "\n",
    "$H_0: \\mu_0 = \\mu_1 = \\mu_2$\n",
    "\n",
    "$H_1: \\mu_i != \\mu_j$, for at least one pair $i,j$\n",
    "\n",
    "Analysis of Variance (ANOVA):"
   ]
  },
  {
   "cell_type": "code",
   "execution_count": 15,
   "metadata": {},
   "outputs": [
    {
     "name": "stdout",
     "output_type": "stream",
     "text": [
      "Without dropping rows containing age=99, we have a p-value = 0.04049654686481286\n",
      "When dropping rows containing age=99, we have a p-value = 0.06180447480333926\n"
     ]
    }
   ],
   "source": [
    "fstat, pval = stats.f_oneway(boxes[0], boxes[1], boxes[2])\n",
    "alt_fstat, alt_pval = stats.f_oneway(alt_boxes[0], alt_boxes[1], alt_boxes[2])\n",
    "print(\"Without dropping rows containing age=99, we have a p-value = {}\".format(pval))\n",
    "print(\"When dropping rows containing age=99, we have a p-value = {}\".format(alt_pval))"
   ]
  },
  {
   "cell_type": "markdown",
   "metadata": {},
   "source": [
    "### ------------------- Q3 -------------------"
   ]
  },
  {
   "cell_type": "markdown",
   "metadata": {},
   "source": [
    "`Q3: Does age explain happiness according to the ANOVA? Why or why not?`"
   ]
  },
  {
   "cell_type": "markdown",
   "metadata": {},
   "source": [
    "The p-value of ANOVA is 0.0418. This means that with an alpha of 0.05, there is statistically significant evidence to reject the null hypothesis of the mean of the three distributions being the same.\n",
    "\n",
    "This means that according to ANOVA, age does explain happiness. They are dependent.\n",
    "\n",
    "When looking at the closeness of the p-value to a relatively forgiving alpha, I am inclined to think that the relationship is really not that clear. Of course, following the statistical test I will assume that there really is a relationship between Age and Happiness, but preferably I would like to perform the test on more data."
   ]
  },
  {
   "cell_type": "markdown",
   "metadata": {},
   "source": [
    "`Now load the full data instead of just the first 1,000 rows.`"
   ]
  },
  {
   "cell_type": "markdown",
   "metadata": {},
   "source": [
    "For further analysis, let's load in the full data."
   ]
  },
  {
   "cell_type": "code",
   "execution_count": 16,
   "metadata": {},
   "outputs": [
    {
     "name": "stderr",
     "output_type": "stream",
     "text": [
      "/anaconda3/lib/python3.7/site-packages/IPython/core/interactiveshell.py:2785: DtypeWarning: Columns (19,20,21,25,26,49,50,51,55,56,67,68,69,73,74,80,81,82,86,87,1572,1576,1579,1580,1635,1639,1642,1643,1690,1694,1697,1698,2365,5755) have mixed types. Specify dtype option on import or set low_memory=False.\n",
      "  interactivity=interactivity, compiler=compiler, result=result)\n"
     ]
    }
   ],
   "source": [
    "fullDf = pd.read_csv(\"gss.csv.bz2\")"
   ]
  },
  {
   "cell_type": "markdown",
   "metadata": {},
   "source": [
    "`Now let’s try to look at long term trends grouping respondants into categories by year.`"
   ]
  },
  {
   "cell_type": "markdown",
   "metadata": {},
   "source": [
    "And let's look at yearly averages of health and happiness."
   ]
  },
  {
   "cell_type": "code",
   "execution_count": 18,
   "metadata": {},
   "outputs": [
    {
     "data": {
      "text/html": [
       "<div>\n",
       "<style scoped>\n",
       "    .dataframe tbody tr th:only-of-type {\n",
       "        vertical-align: middle;\n",
       "    }\n",
       "\n",
       "    .dataframe tbody tr th {\n",
       "        vertical-align: top;\n",
       "    }\n",
       "\n",
       "    .dataframe thead th {\n",
       "        text-align: right;\n",
       "    }\n",
       "</style>\n",
       "<table border=\"1\" class=\"dataframe\">\n",
       "  <thead>\n",
       "    <tr style=\"text-align: right;\">\n",
       "      <th></th>\n",
       "      <th>HEALTH</th>\n",
       "      <th>HAPPY</th>\n",
       "    </tr>\n",
       "    <tr>\n",
       "      <th>YEAR</th>\n",
       "      <th></th>\n",
       "      <th></th>\n",
       "    </tr>\n",
       "  </thead>\n",
       "  <tbody>\n",
       "    <tr>\n",
       "      <th>1972</th>\n",
       "      <td>2.010539</td>\n",
       "      <td>1.893366</td>\n",
       "    </tr>\n",
       "    <tr>\n",
       "      <th>1973</th>\n",
       "      <td>2.051197</td>\n",
       "      <td>1.791223</td>\n",
       "    </tr>\n",
       "    <tr>\n",
       "      <th>1974</th>\n",
       "      <td>2.025606</td>\n",
       "      <td>1.771563</td>\n",
       "    </tr>\n",
       "    <tr>\n",
       "      <th>1975</th>\n",
       "      <td>2.024161</td>\n",
       "      <td>1.826174</td>\n",
       "    </tr>\n",
       "    <tr>\n",
       "      <th>1976</th>\n",
       "      <td>2.027352</td>\n",
       "      <td>1.784523</td>\n",
       "    </tr>\n",
       "  </tbody>\n",
       "</table>\n",
       "</div>"
      ],
      "text/plain": [
       "        HEALTH     HAPPY\n",
       "YEAR                    \n",
       "1972  2.010539  1.893366\n",
       "1973  2.051197  1.791223\n",
       "1974  2.025606  1.771563\n",
       "1975  2.024161  1.826174\n",
       "1976  2.027352  1.784523"
      ]
     },
     "execution_count": 18,
     "metadata": {},
     "output_type": "execute_result"
    }
   ],
   "source": [
    "#so i want to group the data by year and then calculate the average of the health and the average of the happy column\n",
    "hhmeansDf = fullDf.groupby([\"YEAR\"])[\"HEALTH\", \"HAPPY\"].mean()\n",
    "hhmeansDf.head()"
   ]
  },
  {
   "cell_type": "markdown",
   "metadata": {},
   "source": [
    "Let's also calculate the percentage of people who are very happy or in excellent health. This approach is better for this data, since it’s categorical."
   ]
  },
  {
   "cell_type": "code",
   "execution_count": 19,
   "metadata": {},
   "outputs": [
    {
     "name": "stdout",
     "output_type": "stream",
     "text": [
      "[2 3 1 4 9 8 0]\n",
      "[3 2 1 9 8 0]\n"
     ]
    }
   ],
   "source": [
    "print(fullDf[\"HEALTH\"].unique())\n",
    "print(fullDf[\"HAPPY\"].unique())"
   ]
  },
  {
   "cell_type": "markdown",
   "metadata": {},
   "source": [
    "Category '1' for the health and happy variables both indicate the highest option (\"Excellent\" and \"Very Happy\" respectively).\n",
    "\n",
    "Also, let's drop the rows with 0. If we don't there will be some years that have no answers with 1s, simply because it wasn't a question during those years."
   ]
  },
  {
   "cell_type": "code",
   "execution_count": 20,
   "metadata": {},
   "outputs": [],
   "source": [
    "#dropping 0s\n",
    "fullDf = fullDf[fullDf[\"HEALTH\"] != 0]\n",
    "fullDf = fullDf[fullDf[\"HAPPY\"] != 0]"
   ]
  },
  {
   "cell_type": "code",
   "execution_count": 21,
   "metadata": {},
   "outputs": [],
   "source": [
    "#so we need to calculate the number of rows with a 1 in EITHER the health OR the happy column, and divide that by total number of rows.\n",
    "both_1s = entries_with_1s = fullDf.loc[(fullDf[\"HEALTH\"] == 1) & (fullDf[\"HAPPY\"] == 1)]\n",
    "entries_with_1s = fullDf.loc[(fullDf[\"HEALTH\"] == 1) | (fullDf[\"HAPPY\"] == 1)]\n",
    "health_with_1s = fullDf.loc[(fullDf[\"HEALTH\"] == 1)]\n",
    "happy_with_1s = fullDf.loc[(fullDf[\"HAPPY\"] == 1)]\n",
    "\n",
    "meta_1s = [both_1s, entries_with_1s, health_with_1s, happy_with_1s]"
   ]
  },
  {
   "cell_type": "code",
   "execution_count": 22,
   "metadata": {},
   "outputs": [
    {
     "name": "stdout",
     "output_type": "stream",
     "text": [
      "BOTH HEALTH AND HAPPY = 1\n",
      "Number of rows with a 1 in both: 6146, number of total rows: 44810\n",
      "Percentage of people who are both very happy and in excellent health: 13.7\n",
      "\n",
      "EITHER HEALTH OR HAPPY = 1\n",
      "Number of rows with a 1 in either: 21246, number of total rows: 44810\n",
      "Percentage of people who are very happy or in excellent health: 47.4\n",
      "\n",
      "HEALTH = 1\n",
      "Number of rows with a 1 in health: 13302, number of total rows: 44810\n",
      "Percentage of people who are in excellent health: 29.7\n",
      "\n",
      "HAPPY = 1\n",
      "Number of rows with a 1 in happy: 14090, number of total rows: 44810\n",
      "Percentage of people who are very happy: 31.4\n"
     ]
    }
   ],
   "source": [
    "print(\"BOTH HEALTH AND HAPPY = 1\")\n",
    "print(\"Number of rows with a 1 in both: {}, number of total rows: {}\".format(both_1s.shape[0], fullDf.shape[0]))\n",
    "print(\"Percentage of people who are both very happy and in excellent health: {:.1f}\".format(100*both_1s.shape[0]/fullDf.shape[0]))\n",
    "print()\n",
    "print(\"EITHER HEALTH OR HAPPY = 1\")\n",
    "print(\"Number of rows with a 1 in either: {}, number of total rows: {}\".format(entries_with_1s.shape[0], fullDf.shape[0]))\n",
    "print(\"Percentage of people who are very happy or in excellent health: {:.1f}\".format(100*entries_with_1s.shape[0]/fullDf.shape[0]))\n",
    "print()\n",
    "print(\"HEALTH = 1\")\n",
    "print(\"Number of rows with a 1 in health: {}, number of total rows: {}\".format(health_with_1s.shape[0], fullDf.shape[0]))\n",
    "print(\"Percentage of people who are in excellent health: {:.1f}\".format(100*health_with_1s.shape[0]/fullDf.shape[0]))\n",
    "print()\n",
    "print(\"HAPPY = 1\")\n",
    "print(\"Number of rows with a 1 in happy: {}, number of total rows: {}\".format(happy_with_1s.shape[0], fullDf.shape[0]))\n",
    "print(\"Percentage of people who are very happy: {:.1f}\".format(100*happy_with_1s.shape[0]/fullDf.shape[0]))"
   ]
  },
  {
   "cell_type": "markdown",
   "metadata": {},
   "source": [
    "`You can make a scatterplot of these data. You might want to plot a single variable over time, or plot health and happiness against each other. `"
   ]
  },
  {
   "cell_type": "code",
   "execution_count": 23,
   "metadata": {},
   "outputs": [
    {
     "data": {
      "image/png": "[encoded data removed]",
      "text/plain": [
       "<Figure size 1152x1152 with 6 Axes>"
      ]
     },
     "metadata": {
      "needs_background": "light"
     },
     "output_type": "display_data"
    }
   ],
   "source": [
    "colors = ['black', 'red', 'blue', 'orange', 'purple']\n",
    "data_names = ['both', 'either/or', 'health', 'happy']\n",
    "lins = []\n",
    "pearson_ccoef = []\n",
    "xypairs = []\n",
    "#TOP ROW\n",
    "fig, ax = plt.subplots(3,2, figsize=(16,16))\n",
    "for i,name in enumerate(data_names[:2]):\n",
    "    x = meta_1s[i][\"YEAR\"].unique()\n",
    "    y = meta_1s[i].groupby([\"YEAR\"])[\"ID\"].count()\n",
    "    xypairs.append((x,y))\n",
    "    #Get a pearson correlation coefficient:\n",
    "    pearson_ccoef.append(stats.pearsonr(x, y))\n",
    "    \n",
    "    #get SLR to help with visualization\n",
    "    slope, intercept, r_value, p_value, std_err = stats.linregress(x,y)\n",
    "    #store for cumulative plot\n",
    "    lins.append((slope, intercept, r_value, p_value, std_err))\n",
    "    #plot SLR\n",
    "    ax[0][i].plot(x, intercept + slope*x, color = colors[i])\n",
    "    #plot data\n",
    "    ax[0][i].scatter(x, y, color = colors[i])\n",
    "    ax[0][i].legend([\"SLR\", name])\n",
    "    ax[0][i].set_xlabel(\"Years\")\n",
    "    ax[0][i].set_ylabel(\"Answers with 1\")\n",
    "    ax[0][i].set_title(name.capitalize())\n",
    "\n",
    "    \n",
    "#SECOND ROW\n",
    "for i,name in enumerate(data_names[2:]):\n",
    "    x = meta_1s[i+2][\"YEAR\"].unique()\n",
    "    y = meta_1s[i+2].groupby([\"YEAR\"])[\"ID\"].count()\n",
    "    xypairs.append((x,y))\n",
    "    #Get a pearson correlation coefficient:\n",
    "    pearson_ccoef.append(stats.pearsonr(x, y))\n",
    "    \n",
    "    #get SLR to help with visualization\n",
    "    slope, intercept, r_value, p_value, std_err = stats.linregress(x,y)\n",
    "    #store for cumulative plot\n",
    "    lins.append((slope, intercept, r_value, p_value, std_err))\n",
    "    #plot SLR\n",
    "    ax[1][i].plot(x, intercept + slope*x, color = colors[i+2])\n",
    "    #plot data\n",
    "    ax[1][i].scatter(x, y, color = colors[i+2])\n",
    "    ax[1][i].legend([\"SLR\", name])\n",
    "    ax[1][i].set_xlabel(\"Years\")\n",
    "    ax[1][i].set_ylabel(\"Answers with 1\")\n",
    "    ax[1][i].set_title(\"Just \" + name.upper())\n",
    "    \n",
    "#ALL IN ONE\n",
    "for i in range(4):\n",
    "    x = xypairs[i][0]\n",
    "    y = xypairs[i][1]\n",
    "#     print(i)\n",
    "#     ax[2][1].plot(x, lins[i][1] + lins[i][0]*x, color = colors[i])\n",
    "    ax[2][0].scatter(x, y, color = colors[i])\n",
    "ax[2][0].set_title(\"All in one\")\n",
    "ax[2][0].set_xlabel(\"Years\")\n",
    "ax[2][0].set_ylabel(\"Answers with 1\")\n",
    "#for the legend\n",
    "# SLR_labels = []\n",
    "labels = []\n",
    "for name in data_names:\n",
    "#     SLR_labels.append(name + \" SLR\")\n",
    "    labels.append(name)\n",
    "ax[2][0].legend(labels, bbox_to_anchor=(1.05, 1), loc='upper left', borderaxespad=0.)\n",
    "\n",
    "\n",
    "#Health vs Happiness\n",
    "x = meta_1s[3].groupby([\"YEAR\"])[\"ID\"].count() #happiness\n",
    "y = meta_1s[2].groupby([\"YEAR\"])[\"ID\"].count() #health\n",
    "xypairs.append((x,y))\n",
    "lins.append(stats.linregress(x, y))\n",
    "ax[2][1].plot(x, lins[-1][1] + lins[-1][0]*x, color = colors[4])\n",
    "ax[2][1].scatter(x, y, color = colors[4])\n",
    "ax[2][1].set_title(\"Health as a function of Happiness\")\n",
    "ax[2][1].set_xlabel(\"Happiness\")\n",
    "ax[2][1].set_ylabel(\"Health\")\n",
    "ax[2][1].legend([\"SLR\", \"Health over Happiness\"])\n",
    "\n",
    "plt.subplots_adjust(top = 0.99, bottom=0.01, hspace=.3, wspace=0.4)\n",
    "plt.show()"
   ]
  },
  {
   "cell_type": "markdown",
   "metadata": {},
   "source": [
    "### ------------------- Q4 -------------------\n",
    "\n",
    "`Q4: To understand how well these variables are correlated, you can use Pearson’s correlation and/or fit a linear regression. If you fit a linear regression, spend some time researching the assumptions. Calculate the correlation coefficient and p-value for each combination of variable (health and year, happiness and year, health and happiness). Are they correlated? How well? What does this mean?`"
   ]
  },
  {
   "cell_type": "markdown",
   "metadata": {},
   "source": [
    "Overall, there doesn't seem to be any significant change over the last 50 years. The SLRs aren't the best predictor for our variables, but we aren't trying to predict right now, mainly just understanding the general flow of the data, which is relatively horizontal. Let's look at the SLR p-value and r squared:"
   ]
  },
  {
   "cell_type": "code",
   "execution_count": 24,
   "metadata": {},
   "outputs": [
    {
     "name": "stdout",
     "output_type": "stream",
     "text": [
      "For both, we have p-value = 0.3798736238626914, r-value = -0.16933079902605425\n",
      "For either/or, we have p-value = 0.632111773144608, r-value = -0.09279232609694471\n",
      "For health, we have p-value = 0.35210154847149255, r-value = -0.1792735609542711\n",
      "For happy, we have p-value = 0.84459475833553, r-value = -0.038061005640476916\n",
      "For Happy over Health, we have p-value = 5.812581081328852e-14, r-value = 0.9382193145992908\n"
     ]
    }
   ],
   "source": [
    "for i, name in enumerate(data_names):\n",
    "    print(\"For {}, we have p-value = {}, r-value = {}\".format(name, lins[i][3], lins[i][2]))\n",
    "print(\"For {}, we have p-value = {}, r-value = {}\".format(\"Happy over Health\", lins[4][3], lins[4][2]))"
   ]
  },
  {
   "cell_type": "markdown",
   "metadata": {},
   "source": [
    "The assumptions that a simple linear regression makes are:\n",
    "\n",
    "1)   The data can be modeled by:\n",
    "$$y_i = \\alpha + \\beta x_i + \\epsilon_i $$\n",
    "\n",
    "2)   Each of the $\\epsilon_i$ are independent.\n",
    "\n",
    "3)   $\\epsilon_i \\thicksim N(0, \\sigma^2)$"
   ]
  },
  {
   "cell_type": "markdown",
   "metadata": {},
   "source": [
    "Health and year, as well as happiness and year are not well correlated according to this linear regression. This means that neither health, nor happiness, as had a significant change during the last 50 years, according to the data. Happiness, even more so than health shows a near horizontal linear regression. However, I can't help to wonder, \"If we were to normalize this data based on the number of responses for each year, what would this correlation linear regression look like? How would it change?\". \n",
    "\n",
    "For Health over Happiness, there does seem to be a very strong correlation. Based on the p-values of the linear regressions, there is significant evidence health and happiness change together. This COULD mean that a person's happiness influences a person's health. However, there is a potential confounding variable which would be the number of total responses to the survey, and furthermore it could also be a health that influences happiness. Simply put, as the count for people indicating they are \"very happy\" increases, so does the count of people indicating they are in \"excellent\" health. This means that people who are happy are also healthy, but it does not necessarily mean that as people become happier, they also become healthier."
   ]
  },
  {
   "cell_type": "markdown",
   "metadata": {},
   "source": [
    "### ------------------- Q5: Fitting an MLR model -------------------"
   ]
  },
  {
   "cell_type": "markdown",
   "metadata": {},
   "source": [
    "`Q5: Next, fit a regression model with HAPPY as the dependent variable, and YEAR and HEALTH as the independent variables (features). How good is this regression model? What does it mean?`"
   ]
  },
  {
   "cell_type": "markdown",
   "metadata": {},
   "source": [
    "Next, fit a regression model with HAPPY as the dependent variable, and YEAR and HEALTH as the independent variables (features). How good is this regression model? What does it mean?\n",
    "\n",
    "\n",
    "\n",
    "Now, let's look at the data in a single model."
   ]
  },
  {
   "cell_type": "code",
   "execution_count": 25,
   "metadata": {},
   "outputs": [],
   "source": [
    "import statsmodels.api as sm \n",
    "\n",
    "# Collect the features in a 2D array \n",
    "mlrDf = pd.DataFrame({\"YEAR\": meta_1s[2][\"YEAR\"].unique(), \"HEALTH\": meta_1s[2].groupby([\"YEAR\"])[\"HEALTH\"].count()})\n",
    "X = mlrDf\n",
    "# print(X.head())\n",
    "# Add a constant to the array for the intecept \n",
    "X = sm.add_constant(X)\n",
    "\n",
    "# Collect the response data in an array \n",
    "y = meta_1s[3].groupby([\"YEAR\"])[\"HAPPY\"].count()\n",
    "\n",
    "# Fit the ordinary least-squares (OLS) model \n",
    "model = sm.OLS(y, X).fit()"
   ]
  },
  {
   "cell_type": "code",
   "execution_count": 26,
   "metadata": {},
   "outputs": [
    {
     "data": {
      "text/html": [
       "<table class=\"simpletable\">\n",
       "<caption>OLS Regression Results</caption>\n",
       "<tr>\n",
       "  <th>Dep. Variable:</th>          <td>HAPPY</td>      <th>  R-squared:         </th> <td>   0.898</td>\n",
       "</tr>\n",
       "<tr>\n",
       "  <th>Model:</th>                   <td>OLS</td>       <th>  Adj. R-squared:    </th> <td>   0.890</td>\n",
       "</tr>\n",
       "<tr>\n",
       "  <th>Method:</th>             <td>Least Squares</td>  <th>  F-statistic:       </th> <td>   114.1</td>\n",
       "</tr>\n",
       "<tr>\n",
       "  <th>Date:</th>             <td>Fri, 13 Dec 2019</td> <th>  Prob (F-statistic):</th> <td>1.33e-13</td>\n",
       "</tr>\n",
       "<tr>\n",
       "  <th>Time:</th>                 <td>18:00:03</td>     <th>  Log-Likelihood:    </th> <td> -152.16</td>\n",
       "</tr>\n",
       "<tr>\n",
       "  <th>No. Observations:</th>      <td>    29</td>      <th>  AIC:               </th> <td>   310.3</td>\n",
       "</tr>\n",
       "<tr>\n",
       "  <th>Df Residuals:</th>          <td>    26</td>      <th>  BIC:               </th> <td>   314.4</td>\n",
       "</tr>\n",
       "<tr>\n",
       "  <th>Df Model:</th>              <td>     2</td>      <th>                     </th>     <td> </td>   \n",
       "</tr>\n",
       "<tr>\n",
       "  <th>Covariance Type:</th>      <td>nonrobust</td>    <th>                     </th>     <td> </td>   \n",
       "</tr>\n",
       "</table>\n",
       "<table class=\"simpletable\">\n",
       "<tr>\n",
       "     <td></td>       <th>coef</th>     <th>std err</th>      <th>t</th>      <th>P>|t|</th>  <th>[0.025</th>    <th>0.975]</th>  \n",
       "</tr>\n",
       "<tr>\n",
       "  <th>const</th>  <td>-2737.1522</td> <td> 1329.085</td> <td>   -2.059</td> <td> 0.050</td> <td>-5469.126</td> <td>   -5.178</td>\n",
       "</tr>\n",
       "<tr>\n",
       "  <th>YEAR</th>   <td>    1.4010</td> <td>    0.664</td> <td>    2.109</td> <td> 0.045</td> <td>    0.036</td> <td>    2.766</td>\n",
       "</tr>\n",
       "<tr>\n",
       "  <th>HEALTH</th> <td>    0.9395</td> <td>    0.062</td> <td>   15.097</td> <td> 0.000</td> <td>    0.812</td> <td>    1.067</td>\n",
       "</tr>\n",
       "</table>\n",
       "<table class=\"simpletable\">\n",
       "<tr>\n",
       "  <th>Omnibus:</th>       <td> 0.900</td> <th>  Durbin-Watson:     </th> <td>   1.059</td>\n",
       "</tr>\n",
       "<tr>\n",
       "  <th>Prob(Omnibus):</th> <td> 0.638</td> <th>  Jarque-Bera (JB):  </th> <td>   0.838</td>\n",
       "</tr>\n",
       "<tr>\n",
       "  <th>Skew:</th>          <td>-0.182</td> <th>  Prob(JB):          </th> <td>   0.658</td>\n",
       "</tr>\n",
       "<tr>\n",
       "  <th>Kurtosis:</th>      <td> 2.251</td> <th>  Cond. No.          </th> <td>3.02e+05</td>\n",
       "</tr>\n",
       "</table><br/><br/>Warnings:<br/>[1] Standard Errors assume that the covariance matrix of the errors is correctly specified.<br/>[2] The condition number is large, 3.02e+05. This might indicate that there are<br/>strong multicollinearity or other numerical problems."
      ],
      "text/plain": [
       "<class 'statsmodels.iolib.summary.Summary'>\n",
       "\"\"\"\n",
       "                            OLS Regression Results                            \n",
       "==============================================================================\n",
       "Dep. Variable:                  HAPPY   R-squared:                       0.898\n",
       "Model:                            OLS   Adj. R-squared:                  0.890\n",
       "Method:                 Least Squares   F-statistic:                     114.1\n",
       "Date:                Fri, 13 Dec 2019   Prob (F-statistic):           1.33e-13\n",
       "Time:                        18:00:03   Log-Likelihood:                -152.16\n",
       "No. Observations:                  29   AIC:                             310.3\n",
       "Df Residuals:                      26   BIC:                             314.4\n",
       "Df Model:                           2                                         \n",
       "Covariance Type:            nonrobust                                         \n",
       "==============================================================================\n",
       "                 coef    std err          t      P>|t|      [0.025      0.975]\n",
       "------------------------------------------------------------------------------\n",
       "const      -2737.1522   1329.085     -2.059      0.050   -5469.126      -5.178\n",
       "YEAR           1.4010      0.664      2.109      0.045       0.036       2.766\n",
       "HEALTH         0.9395      0.062     15.097      0.000       0.812       1.067\n",
       "==============================================================================\n",
       "Omnibus:                        0.900   Durbin-Watson:                   1.059\n",
       "Prob(Omnibus):                  0.638   Jarque-Bera (JB):                0.838\n",
       "Skew:                          -0.182   Prob(JB):                        0.658\n",
       "Kurtosis:                       2.251   Cond. No.                     3.02e+05\n",
       "==============================================================================\n",
       "\n",
       "Warnings:\n",
       "[1] Standard Errors assume that the covariance matrix of the errors is correctly specified.\n",
       "[2] The condition number is large, 3.02e+05. This might indicate that there are\n",
       "strong multicollinearity or other numerical problems.\n",
       "\"\"\""
      ]
     },
     "execution_count": 26,
     "metadata": {},
     "output_type": "execute_result"
    }
   ],
   "source": [
    "model.summary()"
   ]
  },
  {
   "cell_type": "markdown",
   "metadata": {},
   "source": [
    "This regression model is really good, because it has a really high f-statistic. The f-statistic is a measure of how much better our model is than just using the mean. The larger it is, the better. You may also look at the adjusted R-squared value of 0.89. It's a really good model.\n",
    "\n",
    "The t-statistic calculated for the \"YEAR\" variable is barely significant at the alpha = 5% level and for the \"HEALTH\" variable it is incredibly high at 15.097. There are not enough decimal places to show the p-value of it in the summary provided above. This means that as Happiness can be explained by Health and Year -- The healthier a person is, the happier they are, and as time progresses into the future, people's average happiness also increases. The latter statement is rather questionable, as it should be, the model made the assumption that the data can be explained in a linear fashion; however it may just be that due to an increase in connectivity through the internet, people have become happier, but that this trend will not continue into the future. Of course it is also noteworthy that people, on average, may become healthier as time moves on, which would mean that time doesn't directly drive happiness.\n",
    "\n",
    "If we look at the correlation between time and health, we don't see a statistically significant correlation. So I am wondering why the MLR model showed a p-value of 0.045. I think a reason for this may be the lack of data points. We only have 26 data points, so it may be a good idea to bootstrap some more data."
   ]
  },
  {
   "cell_type": "markdown",
   "metadata": {},
   "source": [
    "## Part 2: On my own now\n",
    "For the next part of the notebook, I will go out on my own:\n",
    "\n",
    "### ------------------- Q6 -------------------\n",
    "\n",
    "`Q6: Define three hypotheses about additional variables that may be correlated with happiness. You’ll need to reference the code book. Why do you think these may or may not be correlated with happiness?`"
   ]
  },
  {
   "cell_type": "markdown",
   "metadata": {},
   "source": [
    "1) Being self-employed increases happiness.\n",
    "    - I think being an employer might make a person happier as they are providing an income to live on for people.\n",
    "2) Income increases happiness.\n",
    "    - I think that up to a certain point income should increase happiness, let's find out the truth.\n",
    "3) People are happier in the summer.\n",
    "    - I think sunshine and warmth can make people happier."
   ]
  },
  {
   "cell_type": "markdown",
   "metadata": {},
   "source": [
    "### ------------------- Q7 -------------------\n",
    "\n",
    "`Q7: Using methods like those in part 1, explore whether or not the data supports your hypotheses.`"
   ]
  },
  {
   "cell_type": "markdown",
   "metadata": {},
   "source": [
    "### 1) Being self-employed increases happiness.\n",
    "\n",
    "To test this hypothesis, let's first get a feel for the data by showing a contingency table."
   ]
  },
  {
   "cell_type": "code",
   "execution_count": 27,
   "metadata": {},
   "outputs": [],
   "source": [
    "wrkHapDf = fullDf.loc[((fullDf[\"WRKSLF\"] == 1) | (fullDf[\"WRKSLF\"] == 2)) & ((fullDf[\"HAPPY\"] == 1) | (fullDf[\"HAPPY\"] == 2) | (fullDf[\"HAPPY\"] == 3))][[\"YEAR\", \"HAPPY\", \"WRKSLF\"]]"
   ]
  },
  {
   "cell_type": "code",
   "execution_count": 28,
   "metadata": {},
   "outputs": [
    {
     "name": "stdout",
     "output_type": "stream",
     "text": [
      "count            41810\n",
      "unique               2\n",
      "top       Someone else\n",
      "freq             37007\n",
      "Name: WRKSLF, dtype: object\n",
      "count            41810\n",
      "unique               3\n",
      "top       Pretty happy\n",
      "freq             23126\n",
      "Name: HAPPY, dtype: object\n",
      "How many rows there were before dropping them in the cell above:  44810\n"
     ]
    }
   ],
   "source": [
    "wrkCategories = {1:\"Self-employed\",2:\"Someone else\",8:\"Don't know\",9:\"No answer\",0:\"Not applicable\"}\n",
    "catWrkDf = wrkHapDf.copy()\n",
    "catWrkDf[\"WRKSLF\"] = wrkHapDf[\"WRKSLF\"].replace(wrkCategories) #map(lambda x: myDict[x], shortDf[\"HAPPY\"])\n",
    "catWrkDf[\"HAPPY\"] = catWrkDf[\"HAPPY\"].replace(happyCategories)\n",
    "print(catWrkDf[\"WRKSLF\"].describe())\n",
    "print(catWrkDf[\"HAPPY\"].describe())\n",
    "print(\"How many rows there were before dropping them in the cell above: \", fullDf.shape[0])"
   ]
  },
  {
   "cell_type": "markdown",
   "metadata": {},
   "source": [
    "Let's take a look at the contingency table."
   ]
  },
  {
   "cell_type": "code",
   "execution_count": 29,
   "metadata": {},
   "outputs": [
    {
     "name": "stdout",
     "output_type": "stream",
     "text": [
      "The ratio in group size is approx. 1:7.7\n"
     ]
    },
    {
     "data": {
      "text/html": [
       "<div>\n",
       "<style scoped>\n",
       "    .dataframe tbody tr th:only-of-type {\n",
       "        vertical-align: middle;\n",
       "    }\n",
       "\n",
       "    .dataframe tbody tr th {\n",
       "        vertical-align: top;\n",
       "    }\n",
       "\n",
       "    .dataframe thead th {\n",
       "        text-align: right;\n",
       "    }\n",
       "</style>\n",
       "<table border=\"1\" class=\"dataframe\">\n",
       "  <thead>\n",
       "    <tr style=\"text-align: right;\">\n",
       "      <th>HAPPY</th>\n",
       "      <th>Not too happy</th>\n",
       "      <th>Pretty happy</th>\n",
       "      <th>Very happy</th>\n",
       "      <th>All</th>\n",
       "    </tr>\n",
       "    <tr>\n",
       "      <th>WRKSLF</th>\n",
       "      <th></th>\n",
       "      <th></th>\n",
       "      <th></th>\n",
       "      <th></th>\n",
       "    </tr>\n",
       "  </thead>\n",
       "  <tbody>\n",
       "    <tr>\n",
       "      <th>Self-employed</th>\n",
       "      <td>539</td>\n",
       "      <td>2525</td>\n",
       "      <td>1739</td>\n",
       "      <td>4803</td>\n",
       "    </tr>\n",
       "    <tr>\n",
       "      <th>Someone else</th>\n",
       "      <td>4849</td>\n",
       "      <td>20601</td>\n",
       "      <td>11557</td>\n",
       "      <td>37007</td>\n",
       "    </tr>\n",
       "    <tr>\n",
       "      <th>All</th>\n",
       "      <td>5388</td>\n",
       "      <td>23126</td>\n",
       "      <td>13296</td>\n",
       "      <td>41810</td>\n",
       "    </tr>\n",
       "  </tbody>\n",
       "</table>\n",
       "</div>"
      ],
      "text/plain": [
       "HAPPY          Not too happy  Pretty happy  Very happy    All\n",
       "WRKSLF                                                       \n",
       "Self-employed            539          2525        1739   4803\n",
       "Someone else            4849         20601       11557  37007\n",
       "All                     5388         23126       13296  41810"
      ]
     },
     "execution_count": 29,
     "metadata": {},
     "output_type": "execute_result"
    }
   ],
   "source": [
    "contingency_table = pd.crosstab(catWrkDf[\"WRKSLF\"], catWrkDf[\"HAPPY\"], margins=True)\n",
    "print(\"The ratio in group size is approx. {}:{:.1f}\".format(1, catWrkDf[catWrkDf[\"WRKSLF\"] == \"Someone else\"].shape[0]/catWrkDf[catWrkDf[\"WRKSLF\"] == \"Self-employed\"].shape[0]))\n",
    "contingency_table"
   ]
  },
  {
   "cell_type": "markdown",
   "metadata": {},
   "source": [
    "The count for each happy category should be approximately 7.7 times for the \"Someone else\" category than for the \"Self-employed\" category. However, for the \"Not too happy\" category, the count is 9 times higher for those working for \"Someone else\" as for those that are \"Self-employed\". \n",
    "\n",
    "So there is a 1:9 ratio for the \"Not too happy\" category.\n",
    "\n",
    "There is a 1:8.1 ratio for the pretty happy category.\n",
    "\n",
    "And a 1:6.6 ratio for the very happy category.\n",
    "\n",
    "\n",
    "Based on this, I would say that there is a correlation between being self-employed and happiness.\n",
    "However, the contingency table is really tough to read for this data, so let's normalize the data and plot it what an SLR."
   ]
  },
  {
   "cell_type": "code",
   "execution_count": 30,
   "metadata": {},
   "outputs": [
    {
     "data": {
      "image/png": "[encoded data removed]",
      "text/plain": [
       "<Figure size 432x288 with 1 Axes>"
      ]
     },
     "metadata": {
      "needs_background": "light"
     },
     "output_type": "display_data"
    }
   ],
   "source": [
    "x = catWrkDf[\"HAPPY\"].unique()\n",
    "numeric_x = np.asarray([0.0, 1.0, 2.0])\n",
    "\n",
    "selfEmp = catWrkDf[catWrkDf[\"WRKSLF\"] == \"Self-employed\"]\n",
    "someoneElse = catWrkDf[catWrkDf[\"WRKSLF\"] == \"Someone else\"]\n",
    "selfEmpCounts = [selfEmp[selfEmp[\"HAPPY\"] == hapCat].shape[0] for hapCat in list(x)]\n",
    "elseCounts = [someoneElse[someoneElse[\"HAPPY\"] == hapCat].shape[0] for hapCat in list(x)]\n",
    "total_self = sum(selfEmpCounts)\n",
    "total_else = sum(elseCounts)\n",
    "selfEmpCounts = [num/total_self for num in selfEmpCounts]\n",
    "elseCounts = [num/total_else for num in elseCounts]\n",
    "\n",
    "selfLin = stats.linregress(numeric_x, selfEmpCounts)\n",
    "elseLin = stats.linregress(numeric_x, elseCounts)\n",
    "\n",
    "plt.scatter(x, selfEmpCounts, color = \"steelblue\")\n",
    "plt.plot(x, selfLin[1]+selfLin[0]*numeric_x, color = \"steelblue\")\n",
    "plt.scatter(x, elseCounts, color = \"orange\")\n",
    "plt.plot(x, elseLin[1]+elseLin[0]*numeric_x, color = \"orange\")\n",
    "plt.legend([\"Self-employed: y = {:.2f}*x + {:.2f}\".format(selfLin[0], selfLin[1]), \"Someone else: y = {:.2f}*x + {:.2f}\".format(elseLin[0], elseLin[1]), \"Self-employed\",\"Someone else\"])\n",
    "plt.show()"
   ]
  },
  {
   "cell_type": "markdown",
   "metadata": {},
   "source": [
    "Since there are only 3 categories, it seems a bit weird to perform an SLR on the two, but just from plotting the data points, it is clear to see that those that are self-employed have a higher happiness, at least based on this data. We could construct a confidence interval for the slopes of the two SLRs and see how close they are, if they overlap, etc., but with only 3 datapoints, this seems not so helpful.\n",
    "\n",
    "Another way to do this would be to calculate the mean happiness number (i.e. convert the categorical data back to its numerical form and average out over the two different employment groups) and then test if there is statistically significant evidence to reject a null hypothesis of the two true means being equal using ANOVA. Let's do that."
   ]
  },
  {
   "cell_type": "code",
   "execution_count": 50,
   "metadata": {},
   "outputs": [
    {
     "data": {
      "image/png": "[encoded data removed]",
      "text/plain": [
       "<Figure size 864x432 with 1 Axes>"
      ]
     },
     "metadata": {
      "needs_background": "light"
     },
     "output_type": "display_data"
    }
   ],
   "source": [
    "# no real code that we need to implement to get back to the numerical values since we made a copy for the categorical representation\n",
    "#just use wrkHapDf\n",
    "#also we need to a better idea of how the mean is spread out to do a boxplot. So that's \n",
    "elseMeans = wrkHapDf[wrkHapDf[\"WRKSLF\"] == 2].groupby([\"YEAR\"])[\"HAPPY\"].mean()\n",
    "selfEmpMeans = wrkHapDf[wrkHapDf[\"WRKSLF\"] == 1].groupby([\"YEAR\"])[\"HAPPY\"].mean()\n",
    "\n",
    "fig,ax = plt.subplots(figsize=(12,6))\n",
    "ax.boxplot([selfEmpMeans, elseMeans])\n",
    "ax.set_xticklabels([\"Self-employed\", \"Working for someone else\"])\n",
    "ax.set_ylabel(\"Happiness\")\n",
    "ax.set_title(\"Happiness distributions\")\n",
    "\n",
    "plt.show()\n",
    "# selfEmpCounts = [selfEmp[selfEmp[\"HAPPY\"] == hapCat].shape[0] for hapCat in list(x)]\n",
    "# elseCounts = [someoneElse[someoneElse[\"HAPPY\"] == hapCat].shape[0] for hapCat in list(x)]\n",
    "# total_self = sum(selfEmpCounts)\n",
    "# total_else = sum(elseCounts)"
   ]
  },
  {
   "cell_type": "markdown",
   "metadata": {},
   "source": [
    "These results are rather surprising. Let's perform ANOVA to see if the means are the same."
   ]
  },
  {
   "cell_type": "code",
   "execution_count": 51,
   "metadata": {},
   "outputs": [
    {
     "name": "stdout",
     "output_type": "stream",
     "text": [
      "2.6425008606443248e-05\n"
     ]
    }
   ],
   "source": [
    "fstat, pval = stats.f_oneway(selfEmpMeans, elseMeans)\n",
    "print(pval)"
   ]
  },
  {
   "cell_type": "markdown",
   "metadata": {},
   "source": [
    "Based on this data, there is significant evidence that the means of happiness levels of self-employed and those who work for someone else are different based on a p-value of $ p = 2.64 * 10^{-5} $, which is far less than a reasonable alpha of 0.01. "
   ]
  },
  {
   "cell_type": "markdown",
   "metadata": {},
   "source": [
    "I believe the latter representation to be more representative of the truth, since before we used an SLR to show the difference, but that only had 3 data points.\n",
    "\n",
    "So overall, we can conclude that people who are self-employed less happy on average than those who are working for someone else."
   ]
  },
  {
   "cell_type": "markdown",
   "metadata": {},
   "source": [
    "### 2) Income increases happiness.\n",
    "\n",
    "Let's begin this one by just plotting the numbers."
   ]
  },
  {
   "cell_type": "code",
   "execution_count": 52,
   "metadata": {},
   "outputs": [
    {
     "data": {
      "text/html": [
       "<div>\n",
       "<style scoped>\n",
       "    .dataframe tbody tr th:only-of-type {\n",
       "        vertical-align: middle;\n",
       "    }\n",
       "\n",
       "    .dataframe tbody tr th {\n",
       "        vertical-align: top;\n",
       "    }\n",
       "\n",
       "    .dataframe thead th {\n",
       "        text-align: right;\n",
       "    }\n",
       "</style>\n",
       "<table border=\"1\" class=\"dataframe\">\n",
       "  <thead>\n",
       "    <tr style=\"text-align: right;\">\n",
       "      <th></th>\n",
       "      <th>YEAR</th>\n",
       "      <th>HAPPY</th>\n",
       "      <th>RINCOME</th>\n",
       "    </tr>\n",
       "  </thead>\n",
       "  <tbody>\n",
       "    <tr>\n",
       "      <th>3117</th>\n",
       "      <td>1974</td>\n",
       "      <td>1</td>\n",
       "      <td>2</td>\n",
       "    </tr>\n",
       "    <tr>\n",
       "      <th>3118</th>\n",
       "      <td>1974</td>\n",
       "      <td>1</td>\n",
       "      <td>10</td>\n",
       "    </tr>\n",
       "    <tr>\n",
       "      <th>3121</th>\n",
       "      <td>1974</td>\n",
       "      <td>2</td>\n",
       "      <td>7</td>\n",
       "    </tr>\n",
       "    <tr>\n",
       "      <th>3122</th>\n",
       "      <td>1974</td>\n",
       "      <td>2</td>\n",
       "      <td>8</td>\n",
       "    </tr>\n",
       "    <tr>\n",
       "      <th>3123</th>\n",
       "      <td>1974</td>\n",
       "      <td>1</td>\n",
       "      <td>11</td>\n",
       "    </tr>\n",
       "  </tbody>\n",
       "</table>\n",
       "</div>"
      ],
      "text/plain": [
       "      YEAR  HAPPY  RINCOME\n",
       "3117  1974      1        2\n",
       "3118  1974      1       10\n",
       "3121  1974      2        7\n",
       "3122  1974      2        8\n",
       "3123  1974      1       11"
      ]
     },
     "execution_count": 52,
     "metadata": {},
     "output_type": "execute_result"
    }
   ],
   "source": [
    "incDf = fullDf.loc[(fullDf[\"RINCOME\"] < 13) & (fullDf[\"RINCOME\"] != 0)]\n",
    "incDf = incDf.loc[(incDf[\"HAPPY\"] < 4) & (incDf[\"HAPPY\"] != 0)]\n",
    "incDf = incDf[[\"YEAR\", \"HAPPY\", \"RINCOME\"]]\n",
    "incDf.head()"
   ]
  },
  {
   "cell_type": "markdown",
   "metadata": {},
   "source": [
    "First, let's convert the income numbers into the written categories."
   ]
  },
  {
   "cell_type": "code",
   "execution_count": 53,
   "metadata": {},
   "outputs": [],
   "source": [
    "incCategories = {1: \"Under $1,000\", 2: \"$ 1,000 to 2,999\", 3: \"$ 3,000 to 3,999\", \n",
    "                 4: \"$ 4,000 to 4,999\", 5: \"$ 5,000 to 5,999\", 6: \"$ 6,000 to 6,999\", \n",
    "                 7: \"$ 7,000 to 7,999\", 8: \"$ 8,000 to 9,999\", 9: \"$10,000 to 14,999\", \n",
    "                 10: \"$15,000 to 19,999\", 11: \"$20,000 to 24,999\", 12: \"$25,000 or over\"}\n",
    "\n",
    "catIncDf = incDf.copy()\n",
    "catIncDf[\"RINCOME\"] = incDf[\"RINCOME\"].replace(incCategories)\n",
    "catIncDf[\"HAPPY\"] = catIncDf[\"HAPPY\"].replace(happyCategories)"
   ]
  },
  {
   "cell_type": "code",
   "execution_count": 54,
   "metadata": {},
   "outputs": [
    {
     "name": "stdout",
     "output_type": "stream",
     "text": [
      "count               25508\n",
      "unique                 12\n",
      "top       $25,000 or over\n",
      "freq                 9590\n",
      "Name: RINCOME, dtype: object\n",
      "count            25508\n",
      "unique               3\n",
      "top       Pretty happy\n",
      "freq             14709\n",
      "Name: HAPPY, dtype: object\n"
     ]
    }
   ],
   "source": [
    "print(catIncDf[\"RINCOME\"].describe())\n",
    "print(catIncDf[\"HAPPY\"].describe())"
   ]
  },
  {
   "cell_type": "code",
   "execution_count": 55,
   "metadata": {},
   "outputs": [
    {
     "data": {
      "image/png": "[encoded data removed]",
      "text/plain": [
       "<Figure size 432x288 with 1 Axes>"
      ]
     },
     "metadata": {
      "needs_background": "light"
     },
     "output_type": "display_data"
    }
   ],
   "source": [
    "#let's plot income over year\n",
    "x = incDf[\"YEAR\"].unique()\n",
    "inc = incDf.groupby([\"YEAR\"])[\"RINCOME\"].mean()\n",
    "\n",
    "plt.scatter(x,inc)\n",
    "plt.plot(x, inc)\n",
    "plt.xlabel(\"Year\")\n",
    "plt.ylabel(\"Income\")\n",
    "plt.title(\"Average Annual Income\")\n",
    "plt.show()"
   ]
  },
  {
   "cell_type": "markdown",
   "metadata": {},
   "source": [
    "This is a nice little plot, but the values at the top are a little misleading. Let's see if we can make our y-axis show more exact monetary values, rather than categories."
   ]
  },
  {
   "cell_type": "code",
   "execution_count": 56,
   "metadata": {},
   "outputs": [
    {
     "data": {
      "image/png": "[encoded data removed]",
      "text/plain": [
       "<Figure size 432x288 with 1 Axes>"
      ]
     },
     "metadata": {
      "needs_background": "light"
     },
     "output_type": "display_data"
    }
   ],
   "source": [
    "incCategories = {1: \"Under $1,000\", 2: \"$ 1,000 to 2,999\", 3: \"$ 3,000 to 3,999\", \n",
    "                 4: \"$ 4,000 to 4,999\", 5: \"$ 5,000 to 5,999\", 6: \"$ 6,000 to 6,999\", \n",
    "                 7: \"$ 7,000 to 7,999\", 8: \"$ 8,000 to 9,999\", 9: \"$10,000 to 14,999\", \n",
    "                 10: \"$15,000 to 19,999\", 11: \"$20,000 to 24,999\", 12: \"$25,000 or over\"}\n",
    "\n",
    "incCategories = {1: 1000, 2: 2000, 3: 3500, 4: 4500, 5: 5500, 6: 6500, \n",
    "                 7: 7500, 8: 9000, 9: 12500, 10: 17500, 11: 22500, 12: 35000}\n",
    "incValDf = incDf.copy()\n",
    "incValDf[\"RINCOME\"] = incDf[\"RINCOME\"].replace(incCategories)\n",
    "incVals = incValDf.groupby([\"YEAR\"])[\"RINCOME\"].mean()\n",
    "incValDf.head()\n",
    "\n",
    "plt.scatter(x, incVals)\n",
    "plt.plot(x, incVals)\n",
    "plt.xlabel(\"Year\")\n",
    "plt.ylabel(\"Income in USD\")\n",
    "plt.show()"
   ]
  },
  {
   "cell_type": "markdown",
   "metadata": {},
   "source": [
    "The problem with the above graph is that the highest *categorical* value possible represents 25,000USD or over. I have coded it to be just 30,000USD, but in reality this could be hundreds of thousands of dollars. There is just no way for me to really estimate that with a number, and therefore represent it well.\n",
    "\n",
    "Nonetheless, it does show a clear trend of increase in income. If this is could be solely described by inflation, there would be an inflation rate of:"
   ]
  },
  {
   "cell_type": "code",
   "execution_count": 57,
   "metadata": {},
   "outputs": [
    {
     "name": "stdout",
     "output_type": "stream",
     "text": [
      "In 1974, avg. income = 8993.436754176611. In 2018, avg. income = 26623.006833712985\n"
     ]
    }
   ],
   "source": [
    "listVals = list(incVals)\n",
    "print(\"In 1974, avg. income = {}. In 2018, avg. income = {}\".format(listVals[0], listVals[-1]))"
   ]
  },
  {
   "cell_type": "markdown",
   "metadata": {},
   "source": [
    "The average income in 1974 was 8,784.6 USD, which would be 44,743.88 USD in 2018 according to [this website](https://www.in2013dollars.com/1972-dollars-in-2018?amount=100).\n",
    "\n",
    "However, according to the model, there would only be 26,623.01 USD. The obvious fail of the model is the highest option for income category, which I estimated at 35,000. I think it would be best to fit a SLR based on the first 20 years of data and use that to predict the growth. But since we are actually trying to test the correlation between income and happiness, there is no need to go further."
   ]
  },
  {
   "cell_type": "markdown",
   "metadata": {},
   "source": [
    "What we have found by doing this analysis is that the more recent data can't be used well. So let's use data going up the year 2000 to determine the happiness - income correlation."
   ]
  },
  {
   "cell_type": "code",
   "execution_count": 58,
   "metadata": {},
   "outputs": [
    {
     "data": {
      "text/html": [
       "<div>\n",
       "<style scoped>\n",
       "    .dataframe tbody tr th:only-of-type {\n",
       "        vertical-align: middle;\n",
       "    }\n",
       "\n",
       "    .dataframe tbody tr th {\n",
       "        vertical-align: top;\n",
       "    }\n",
       "\n",
       "    .dataframe thead th {\n",
       "        text-align: right;\n",
       "    }\n",
       "</style>\n",
       "<table border=\"1\" class=\"dataframe\">\n",
       "  <thead>\n",
       "    <tr style=\"text-align: right;\">\n",
       "      <th></th>\n",
       "      <th>YEAR</th>\n",
       "      <th>HAPPY</th>\n",
       "      <th>RINCOME</th>\n",
       "    </tr>\n",
       "  </thead>\n",
       "  <tbody>\n",
       "    <tr>\n",
       "      <th>3117</th>\n",
       "      <td>1974</td>\n",
       "      <td>1</td>\n",
       "      <td>2</td>\n",
       "    </tr>\n",
       "    <tr>\n",
       "      <th>3118</th>\n",
       "      <td>1974</td>\n",
       "      <td>1</td>\n",
       "      <td>10</td>\n",
       "    </tr>\n",
       "    <tr>\n",
       "      <th>3121</th>\n",
       "      <td>1974</td>\n",
       "      <td>2</td>\n",
       "      <td>7</td>\n",
       "    </tr>\n",
       "    <tr>\n",
       "      <th>3122</th>\n",
       "      <td>1974</td>\n",
       "      <td>2</td>\n",
       "      <td>8</td>\n",
       "    </tr>\n",
       "    <tr>\n",
       "      <th>3123</th>\n",
       "      <td>1974</td>\n",
       "      <td>1</td>\n",
       "      <td>11</td>\n",
       "    </tr>\n",
       "  </tbody>\n",
       "</table>\n",
       "</div>"
      ],
      "text/plain": [
       "      YEAR  HAPPY  RINCOME\n",
       "3117  1974      1        2\n",
       "3118  1974      1       10\n",
       "3121  1974      2        7\n",
       "3122  1974      2        8\n",
       "3123  1974      1       11"
      ]
     },
     "execution_count": 58,
     "metadata": {},
     "output_type": "execute_result"
    }
   ],
   "source": [
    "incDf = incDf[incDf[\"YEAR\"]<2001]\n",
    "incDf.head()"
   ]
  },
  {
   "cell_type": "code",
   "execution_count": 59,
   "metadata": {},
   "outputs": [],
   "source": [
    "#lets make a box plot for all of the different categories that could be chosen in terms of income\n",
    "boxDf = incDf.groupby([\"RINCOME\", \"YEAR\"]).mean()"
   ]
  },
  {
   "cell_type": "code",
   "execution_count": 62,
   "metadata": {},
   "outputs": [
    {
     "data": {
      "image/png": "[encoded data removed]",
      "text/plain": [
       "<Figure size 1152x576 with 1 Axes>"
      ]
     },
     "metadata": {
      "needs_background": "light"
     },
     "output_type": "display_data"
    }
   ],
   "source": [
    "# for i in range(1, 13):\n",
    "#     for j in range(1974, 2001):\n",
    "#         boxDf.iloc[i,j]\n",
    "boxes = []\n",
    "for i in range(1,13):\n",
    "    boxes.append(boxDf[(i, 1974):(i, 2000)][\"HAPPY\"])\n",
    "\n",
    "fig, ax = plt.subplots(figsize=(16, 8))\n",
    "ax.boxplot(boxes)\n",
    "ax.set_xlabel(\"Income category\")\n",
    "ax.set_ylabel(\"Happiness\")\n",
    "ax.set_title(\"Average Happiness over years 1974-2000 per Income category\")\n",
    "plt.show()"
   ]
  },
  {
   "cell_type": "markdown",
   "metadata": {},
   "source": [
    "So this gives us a nice overview of how the means of the data are distributed across years 1974-2000. Interestingly enough, those that chose the highest income level have the lowest mean Happiness level. Let's examine if the mean of the highest category is significantly different from the rest. This means that we combine all of the previous income categories into one category and test if its mean is different from the 12th category."
   ]
  },
  {
   "cell_type": "code",
   "execution_count": 63,
   "metadata": {},
   "outputs": [
    {
     "data": {
      "image/png": "[encoded data removed]",
      "text/plain": [
       "<Figure size 864x432 with 1 Axes>"
      ]
     },
     "metadata": {
      "needs_background": "light"
     },
     "output_type": "display_data"
    },
    {
     "name": "stdout",
     "output_type": "stream",
     "text": [
      "Number of data points in first box: 198, num. dps in second box: 18\n"
     ]
    }
   ],
   "source": [
    "#first combine the first 11\n",
    "first11 = []\n",
    "for i in range(1,12):\n",
    "    first11 = first11 + list(boxes[i])\n",
    "\n",
    "boxes_new = [first11, boxes[-1]]\n",
    "\n",
    "fig, ax = plt.subplots(figsize=(12,6))\n",
    "ax.boxplot(boxes_new)\n",
    "ax.set_xticklabels([\"Less than 25,000$\", \"25,000$ or more\"])\n",
    "ax.set_xlabel(\"Annual income\")\n",
    "ax.set_ylabel(\"Happiness\")\n",
    "ax.set_title(\"Average Happiness over years 1974-2000 per Income category\")\n",
    "plt.show()\n",
    "\n",
    "\n",
    "print(\"Number of data points in first box: {}, num. dps in second box: {}\".format(len(first11), len(boxes[-1])))"
   ]
  },
  {
   "cell_type": "markdown",
   "metadata": {},
   "source": [
    "Let's use ANOVA:"
   ]
  },
  {
   "cell_type": "code",
   "execution_count": 64,
   "metadata": {},
   "outputs": [
    {
     "name": "stdout",
     "output_type": "stream",
     "text": [
      "3.258639653477285e-06\n"
     ]
    }
   ],
   "source": [
    "fstat, pval = stats.f_oneway(first11, boxes[-1])\n",
    "print(pval)"
   ]
  },
  {
   "cell_type": "markdown",
   "metadata": {},
   "source": [
    "ANOVA yields a p-value of $p = 3.26*10^{-6}$, which is statistically significant at a reasonable alpha of 0.01.\n",
    "\n",
    "This indicates that people with 25,000 dollar or more annual income on average are less happy than those that make less than that amount a year.\n",
    "\n",
    "I believe there is good reason to be skeptical of these results, but for now let's move on to the next hypothesis."
   ]
  },
  {
   "cell_type": "markdown",
   "metadata": {},
   "source": [
    "### 3) People are happier in the summer"
   ]
  },
  {
   "cell_type": "markdown",
   "metadata": {},
   "source": [
    "To test this, let's create our trusty boxplot and run an ANOVA on it."
   ]
  },
  {
   "cell_type": "code",
   "execution_count": 65,
   "metadata": {},
   "outputs": [
    {
     "data": {
      "text/html": [
       "<div>\n",
       "<style scoped>\n",
       "    .dataframe tbody tr th:only-of-type {\n",
       "        vertical-align: middle;\n",
       "    }\n",
       "\n",
       "    .dataframe tbody tr th {\n",
       "        vertical-align: top;\n",
       "    }\n",
       "\n",
       "    .dataframe thead th {\n",
       "        text-align: right;\n",
       "    }\n",
       "</style>\n",
       "<table border=\"1\" class=\"dataframe\">\n",
       "  <thead>\n",
       "    <tr style=\"text-align: right;\">\n",
       "      <th></th>\n",
       "      <th>YEAR</th>\n",
       "      <th>HAPPY</th>\n",
       "      <th>DATEINTV</th>\n",
       "    </tr>\n",
       "  </thead>\n",
       "  <tbody>\n",
       "    <tr>\n",
       "      <th>4601</th>\n",
       "      <td>1975</td>\n",
       "      <td>2</td>\n",
       "      <td>311</td>\n",
       "    </tr>\n",
       "    <tr>\n",
       "      <th>4602</th>\n",
       "      <td>1975</td>\n",
       "      <td>1</td>\n",
       "      <td>318</td>\n",
       "    </tr>\n",
       "    <tr>\n",
       "      <th>4603</th>\n",
       "      <td>1975</td>\n",
       "      <td>3</td>\n",
       "      <td>321</td>\n",
       "    </tr>\n",
       "    <tr>\n",
       "      <th>4604</th>\n",
       "      <td>1975</td>\n",
       "      <td>2</td>\n",
       "      <td>316</td>\n",
       "    </tr>\n",
       "    <tr>\n",
       "      <th>4605</th>\n",
       "      <td>1975</td>\n",
       "      <td>1</td>\n",
       "      <td>308</td>\n",
       "    </tr>\n",
       "  </tbody>\n",
       "</table>\n",
       "</div>"
      ],
      "text/plain": [
       "      YEAR  HAPPY  DATEINTV\n",
       "4601  1975      2       311\n",
       "4602  1975      1       318\n",
       "4603  1975      3       321\n",
       "4604  1975      2       316\n",
       "4605  1975      1       308"
      ]
     },
     "execution_count": 65,
     "metadata": {},
     "output_type": "execute_result"
    }
   ],
   "source": [
    "dateDf = fullDf.loc[(fullDf[\"DATEINTV\"] != 9999) & (fullDf[\"DATEINTV\"] != 0)]\n",
    "dateDf = dateDf.loc[(dateDf[\"HAPPY\"] < 4) & (dateDf[\"HAPPY\"] != 0)]\n",
    "dateDf = dateDf[[\"YEAR\", \"HAPPY\", \"DATEINTV\"]]\n",
    "dateDf.head()"
   ]
  },
  {
   "cell_type": "code",
   "execution_count": 67,
   "metadata": {},
   "outputs": [],
   "source": [
    "#groupy into months.\n",
    "prev_i = 0\n",
    "month_list = []\n",
    "for i in range(199, 1399, 100):\n",
    "    month_data = dateDf.loc[(dateDf[\"DATEINTV\"] > prev_i) & (dateDf[\"DATEINTV\"] < i)]\n",
    "    month_list.append(month_data)\n",
    "    prev_i = i"
   ]
  },
  {
   "cell_type": "code",
   "execution_count": 176,
   "metadata": {},
   "outputs": [
    {
     "name": "stdout",
     "output_type": "stream",
     "text": [
      "Number of data points for each month: {'January': 27, 'February': 8842, 'March': 14897, 'April': 6802, 'May': 3665, 'June': 2071, 'July': 1076, 'August': 853, 'September': 792, 'October': 514, 'November': 156, 'December': 92}\n"
     ]
    },
    {
     "data": {
      "image/png": "[encoded data removed]",
      "text/plain": [
       "<Figure size 1152x864 with 1 Axes>"
      ]
     },
     "metadata": {
      "needs_background": "light"
     },
     "output_type": "display_data"
    }
   ],
   "source": [
    "months = [\"January\", \"February\", \"March\", \"April\", \"May\", \"June\", \"July\", \"August\", \"September\", \"October\", \"November\", \"December\"]\n",
    "monthly_means = []\n",
    "monthly_num_dps = {}\n",
    "for i, month in enumerate(month_list):\n",
    "    monthly_means.append(month.groupby([\"YEAR\"])[\"HAPPY\"].mean())\n",
    "    monthly_num_dps[months[i]] = month.shape[0]\n",
    "    \n",
    "    \n",
    "print(\"Number of data points for each month: {}\".format(monthly_num_dps))\n",
    "fig, ax = plt.subplots(figsize=(16,12))    \n",
    "ax.boxplot(monthly_means)\n",
    "ax.set_xticklabels(months)\n",
    "plt.show()"
   ]
  },
  {
   "cell_type": "markdown",
   "metadata": {},
   "source": [
    "If any stand out, I would say it's the May boxplot. This is because the mean is quite high, and the lowest quartile is stil quit high also. Furthermore, there are not extreme outliers, which makes it seem like there is some good data to be had for that month (and seeing how many data points are available for May, it really seems like good data there). For the other months, especially for December, there isn't so much useful data. \n",
    "\n",
    "I think it is likely that these deviations are primarily cause by random chance, however when considering students finishing a semester and going into summer break in May, or even graduating, I can definitely see Happiness levels being higher than average there. So let's test that with ANOVA, comparing all of the other months to May."
   ]
  },
  {
   "cell_type": "code",
   "execution_count": 81,
   "metadata": {},
   "outputs": [
    {
     "data": {
      "image/png": "[encoded data removed]",
      "text/plain": [
       "<Figure size 864x432 with 1 Axes>"
      ]
     },
     "metadata": {
      "needs_background": "light"
     },
     "output_type": "display_data"
    },
    {
     "name": "stdout",
     "output_type": "stream",
     "text": [
      "Number of data points in first box: 198, num. dps in second box: 18\n"
     ]
    }
   ],
   "source": [
    "notMay = []\n",
    "for i in range(12):\n",
    "    if i == 4:\n",
    "        continue\n",
    "    notMay = notMay + list(monthly_means[i])\n",
    "\n",
    "boxes_new = [notMay, monthly_means[4]]\n",
    "\n",
    "fig, ax = plt.subplots(figsize=(12,6))\n",
    "ax.boxplot(boxes_new)\n",
    "ax.set_xticklabels([\"May\", \"All other months\"])\n",
    "ax.set_xlabel(\"Month taken the survey\")\n",
    "ax.set_ylabel(\"Indicated Happiness\")\n",
    "ax.set_title(\"Average Happiness over years 1974-2018 per Month\")\n",
    "plt.show()\n",
    "\n",
    "\n",
    "print(\"Number of data points in first box: {}, num. dps in second box: {}\".format(len(first11), len(boxes[-1])))"
   ]
  },
  {
   "cell_type": "markdown",
   "metadata": {},
   "source": [
    "This doesn't look very convincing. Let's see what ANOVA says:"
   ]
  },
  {
   "cell_type": "code",
   "execution_count": 83,
   "metadata": {},
   "outputs": [
    {
     "name": "stdout",
     "output_type": "stream",
     "text": [
      "0.3075784088146754\n"
     ]
    }
   ],
   "source": [
    "fstat, pval = stats.f_oneway(notMay, monthly_means[4])\n",
    "print(pval)"
   ]
  },
  {
   "cell_type": "markdown",
   "metadata": {},
   "source": [
    "Yeahhhh, no. Mean happiness in May is not at all significantly different from all of the other months.\n",
    "\n",
    "What if we compartmentalize into seasons instead?"
   ]
  },
  {
   "cell_type": "code",
   "execution_count": 84,
   "metadata": {},
   "outputs": [
    {
     "data": {
      "image/png": "[encoded data removed]",
      "text/plain": [
       "<Figure size 864x432 with 1 Axes>"
      ]
     },
     "metadata": {
      "needs_background": "light"
     },
     "output_type": "display_data"
    }
   ],
   "source": [
    "seasons = [\"Winter\", \"Spring\", \"Summer\", \"Fall\"]\n",
    "seasonal_means = []\n",
    "for i in range(1,5):\n",
    "    season = []\n",
    "    for j in range(4):\n",
    "        season = season + list(monthly_means[i+j])\n",
    "    seasonal_means.append(season)\n",
    "    \n",
    "\n",
    "fig, ax = plt.subplots(figsize=(12,6))\n",
    "ax.boxplot(seasonal_means)\n",
    "ax.set_xticklabels(seasons)\n",
    "ax.set_xlabel(\"Season taken the survey\")\n",
    "ax.set_ylabel(\"Indicated Happiness\")\n",
    "ax.set_title(\"Average Happiness over years 1974-2018 per Season\")\n",
    "plt.show()\n",
    "\n",
    "\n",
    "# print(\"Number of data points in first box: {}, num. dps in second box: {}\".format(len(), len(boxes[-1])))"
   ]
  },
  {
   "cell_type": "code",
   "execution_count": 87,
   "metadata": {},
   "outputs": [
    {
     "name": "stdout",
     "output_type": "stream",
     "text": [
      "One-way ANOVA test, f-statistic: 0.0896749801053436, p-value: 0.9656723408476073\n"
     ]
    }
   ],
   "source": [
    "fstat, pval = stats.f_oneway(*seasonal_means)\n",
    "print(\"One-way ANOVA test, f-statistic: {}, p-value: {}\".format(fstat, pval))"
   ]
  },
  {
   "cell_type": "markdown",
   "metadata": {},
   "source": [
    "And here, too, we see pracitcally no difference besides the number of outliers."
   ]
  },
  {
   "cell_type": "markdown",
   "metadata": {},
   "source": [
    "Based on the tests run with the data, it can be concluded that there is not sufficiently statistically significant data to indicate a difference in mean Happiness in different seasons."
   ]
  },
  {
   "cell_type": "markdown",
   "metadata": {},
   "source": [
    "### ------------------- Q8 -------------------\n",
    "\n",
    "`Q8: Using a binary classification model (like logistic regression) combine all these factors to make one synthesized model (including age and health from above as well). Since logistic regression is a binary classification model, you’ll need to reduce the HAPPY variable to 2 levels (e.g., HAPPY = 1 or 2 and HAPPY = 3). Explain your decision here and how it may impact the results. What does the model tell you about happiness and what is correlated with it? Make sure to look into the assumptions made by a logistic regression and check these.`"
   ]
  },
  {
   "cell_type": "markdown",
   "metadata": {},
   "source": [
    "First, let's import SKLearn's Logistic regression, train/test split function and confusion matrix function."
   ]
  },
  {
   "cell_type": "code",
   "execution_count": 215,
   "metadata": {},
   "outputs": [],
   "source": [
    "from sklearn.linear_model import LogisticRegression\n",
    "from sklearn.model_selection import train_test_split\n",
    "from sklearn.metrics import roc_curve, auc"
   ]
  },
  {
   "cell_type": "markdown",
   "metadata": {},
   "source": [
    "For the features, we need to include age, health, employment, income, and seasonal data.\n",
    "\n",
    "For the dependent HAPPY variable, we will reduce the 3 categories into 2. The 3 categories for Happiness are \"Not very happy\", \"Pretty Happy\", and \"Very Happy\". They are all quite different from each other, the first is really a negative indication, the second is neutral, and the third is positive. Ideally, I would like to just drop the neutral category, but this would mean losing a lot of valuable data points. So ultimately, I will combine the first and second categories, because I believe that people that are not happy might be in denial of not being very happy and thus simply choose 'pretty happy', but people that are truly happy and know it will definitely say that they are 'very happy'. For the people that wish to be 'very happy', when they actually are not, I believe 'pretty happy' sounds nice enough that they will be more inclined to choose it than 'very happy'. This choice I'm making may influence the system to have a bias towards not being very happy, since there will be so many more data points in the 'not very happy + pretty happy' group than in the 'very happy' group."
   ]
  },
  {
   "cell_type": "code",
   "execution_count": 216,
   "metadata": {},
   "outputs": [],
   "source": [
    "#before we do anything else, let's drop rows where happiness is undefined\n",
    "# --- It's hard to predict happiness well if we have some undefined values...\n",
    "\n",
    "hapDf = fullDf.loc[(fullDf[\"HAPPY\"] != 0) & (fullDf[\"HAPPY\"] < 8)]"
   ]
  },
  {
   "cell_type": "code",
   "execution_count": 217,
   "metadata": {},
   "outputs": [],
   "source": [
    "#Our dependent variable y, after replacing the variables\n",
    "happyCats = {1: 0, 2: 0, 3: 1} #represent 'not very happy' and 'pretty happy' as 0, and 'very happy' as a 1.\n",
    "y = hapDf[\"HAPPY\"].replace(happyCats).values\n",
    "\n",
    "# all of the features must have the same number of data points. \n",
    "# Let's just include all data the way it is, since the number of data points would decrease significantly\n",
    "# if we dropped all rows that have at least one of the features with \"I don't know\", \"Not Applicable\", or \"No Answer\".\n",
    "\n",
    "#so we need a list of the rows as the X feature and a list of the corresponding happiness\n",
    "X = hapDf[[\"AGE\", \"HEALTH\", \"WRKSLF\", \"RINCOME\", \"DATEINTV\"]].values"
   ]
  },
  {
   "cell_type": "code",
   "execution_count": 218,
   "metadata": {},
   "outputs": [
    {
     "name": "stdout",
     "output_type": "stream",
     "text": [
      "The logistic regression's score is: 0.8684855082324126\n"
     ]
    }
   ],
   "source": [
    "#Now that we have our features and our dependent variable, let's divide up our data into training and test sets\n",
    "X_train, X_test, y_train, y_test = train_test_split(X, y, test_size=0.33, random_state=3245)\n",
    "clf = LogisticRegression(random_state=0).fit(X_train, y_train)\n",
    "y_pred = clf.predict(X_test)\n",
    "print(\"The logistic regression's score is: {}\".format(clf.score(X_test, y_test)))"
   ]
  },
  {
   "cell_type": "markdown",
   "metadata": {},
   "source": [
    "Looks like we got a logistic regression score of 0.868! Not too bad, although I am worried about the bias towards less happiness concerns me. Let's look at the predicted values."
   ]
  },
  {
   "cell_type": "code",
   "execution_count": 219,
   "metadata": {},
   "outputs": [
    {
     "name": "stdout",
     "output_type": "stream",
     "text": [
      "[0 0 0 0 0 0 0 0 0 0 0 0 0 0 0 0 0 0 0 0 0 0 0 0 0 0 0 0 0 0 0 0 0 0 0 0 0\n",
      " 0 0 0 0 0 0 0 0 0 0 0 0 0 0 0 0 0 0 0 0 0 0 0 0 0 0 0 0 0 0 0 0 0 0 0 0 0\n",
      " 0 0 0 0 0 0 0 0 0 0 0 0 0 0 0 0 0 0 0 0 0 0 0 0 0 0 0 0 0 0 0 0 0 0 0 0 0\n",
      " 0 0 0 0 0 0 0 0 0 0 0 0 0 0 0 0 0 0 0 0 0 0 0 0 0 0 0 0 0 0 0 0 0 0 0 0 0\n",
      " 0 0 0 0 0 0 0 0 0 0 0 0 0 0 0 1 0 0 0 0 0 0 0 0 0 0 0 0 0 0 0 0 0 0 0 0 0\n",
      " 0 0 0 0 0 0 0 0 0 0 0 0 0 0 0]\n"
     ]
    }
   ],
   "source": [
    "print(y_pred[:200])"
   ]
  },
  {
   "cell_type": "markdown",
   "metadata": {},
   "source": [
    "Out of 200 people, the regression predicted 1 person to be 'very happy'. That is not very useful. Let's look at predicted and true value pairs to get a better feel for it."
   ]
  },
  {
   "cell_type": "code",
   "execution_count": 220,
   "metadata": {},
   "outputs": [
    {
     "name": "stdout",
     "output_type": "stream",
     "text": [
      "[(0, 0), (0, 0), (0, 0), (0, 0), (0, 0), (0, 0), (0, 0), (0, 0), (0, 0), (0, 0), (0, 0), (0, 1), (0, 1), (0, 0), (0, 1), (0, 0), (0, 0), (0, 0), (0, 1), (0, 0), (0, 0), (0, 0), (0, 0), (0, 0), (0, 0), (0, 0), (0, 1), (0, 0), (0, 0), (0, 1), (0, 0), (0, 0), (0, 0), (0, 0), (0, 0), (0, 0), (0, 0), (0, 0), (0, 0), (0, 0), (0, 0), (0, 0), (0, 0), (0, 0), (0, 1), (0, 0), (0, 0), (0, 0), (0, 0), (0, 0), (0, 0), (0, 0), (0, 1), (0, 0), (0, 0), (0, 0), (0, 0), (0, 0), (0, 0), (0, 0), (0, 0), (0, 0), (0, 0), (0, 1), (0, 0), (0, 0), (0, 0), (0, 0), (0, 0), (0, 0), (0, 1), (0, 0), (0, 0), (0, 0), (0, 0), (0, 1), (0, 0), (0, 0), (0, 1), (0, 0), (0, 0), (0, 0), (0, 0), (0, 1), (0, 0), (0, 0), (0, 0), (0, 0), (0, 0), (0, 0), (0, 0), (0, 0), (0, 0), (0, 1), (0, 0), (0, 0), (0, 1), (0, 0), (0, 1), (0, 0)]\n"
     ]
    }
   ],
   "source": [
    "print([(y_pred[i], y_test[i]) for i in range(100)])"
   ]
  },
  {
   "cell_type": "markdown",
   "metadata": {},
   "source": [
    "As we can see, there are significantly many true values that are ones, but are predicted to be zeros. "
   ]
  },
  {
   "cell_type": "markdown",
   "metadata": {},
   "source": [
    "Another way for us to check is using the Area Under the Curve (AUC)."
   ]
  },
  {
   "cell_type": "code",
   "execution_count": 221,
   "metadata": {},
   "outputs": [
    {
     "data": {
      "text/plain": [
       "0.501565683315083"
      ]
     },
     "execution_count": 221,
     "metadata": {},
     "output_type": "execute_result"
    }
   ],
   "source": [
    "false_positive_rate, true_positive_rate, thresholds = roc_curve(y_test, y_pred)\n",
    "roc_auc = auc(false_positive_rate, true_positive_rate)\n",
    "roc_auc"
   ]
  },
  {
   "cell_type": "markdown",
   "metadata": {},
   "source": [
    "An area under the curve of 50% is as good as guessing..."
   ]
  },
  {
   "cell_type": "markdown",
   "metadata": {},
   "source": [
    "Despite this problem, we can still look at what the features are set when the model does predict a 1."
   ]
  },
  {
   "cell_type": "code",
   "execution_count": 222,
   "metadata": {
    "scrolled": false
   },
   "outputs": [
    {
     "data": {
      "image/png": "[encoded data removed]",
      "text/plain": [
       "<Figure size 1152x432 with 1 Axes>"
      ]
     },
     "metadata": {
      "needs_background": "light"
     },
     "output_type": "display_data"
    }
   ],
   "source": [
    "colors = ['black', 'red', 'blue', 'orange', 'purple']\n",
    "labels = [\"Age\", \"Health\", \"Employment\", \"Income\", \"Date survey taken\"]\n",
    "\n",
    "feature_vals = []\n",
    "for i,predicted_val in enumerate(y_pred):\n",
    "    if predicted_val == 1:\n",
    "        feature_vals.append(X_test[i])\n",
    "\n",
    "        \n",
    "fig, ax = plt.subplots(figsize=(16, 6))\n",
    "median_feat_vals = []\n",
    "for i in range(5):\n",
    "    feat = [feats[i] for feats in feature_vals]\n",
    "    median_feat_vals.append(feat)\n",
    "    \n",
    "    #DONT PLOT DATE TAKEN, IT MESSES WITH THE SCALE\n",
    "    if i == 4:\n",
    "        continue\n",
    "        \n",
    "    ax.hist(feat, color = colors[i], label = labels[i], alpha = 0.3, bins = range(min(feat), max(feat)+1, 1))\n",
    "#     print(featur)\n",
    "median_feat_vals = [np.median(i) for i in median_feat_vals]\n",
    "\n",
    "ax.set_xticks(list(range(0, 10, 1)) + list(range(10, 100, 10)))\n",
    "plt.legend()\n",
    "plt.show()"
   ]
  },
  {
   "cell_type": "markdown",
   "metadata": {},
   "source": [
    "Although I'll admit it isn't the prettiest plot, it does show a few things. The linear regression seems to look at the data in this way:\n",
    "\n",
    "- Age mainly doesn't matter, since it is so widely distributed.\n",
    "- Health doesn't matter much, since practically all of them have a value of 8 (meaning \"Don't know').\n",
    "- Employment matters a lot, since most of the features for which the regression predicted yes indicate the person works for someone else\n",
    "- Income matters a little bit, since there is a visible increase of counts as income increases, but the peaks are at the unknown data points\n",
    "\n",
    "Lastly, let's look at the date the survey was taken:"
   ]
  },
  {
   "cell_type": "code",
   "execution_count": 223,
   "metadata": {},
   "outputs": [
    {
     "data": {
      "image/png": "[encoded data removed]",
      "text/plain": [
       "<Figure size 1152x864 with 1 Axes>"
      ]
     },
     "metadata": {
      "needs_background": "light"
     },
     "output_type": "display_data"
    }
   ],
   "source": [
    "fig, ax = plt.subplots(figsize=(16,12))\n",
    "ax.hist([feats[4] for feats in feature_vals], label = labels[4], bins = range(0, 1300, 100))\n",
    "plt.legend()\n",
    "plt.show()"
   ]
  },
  {
   "cell_type": "code",
   "execution_count": 224,
   "metadata": {},
   "outputs": [
    {
     "name": "stdout",
     "output_type": "stream",
     "text": [
      "Number of data points for each month: {'January': 27, 'February': 8842, 'March': 14897, 'April': 6802, 'May': 3665, 'June': 2071, 'July': 1076, 'August': 853, 'September': 792, 'October': 514, 'November': 156, 'December': 92}\n"
     ]
    }
   ],
   "source": [
    "print(\"Number of data points for each month: {}\".format(monthly_num_dps))"
   ]
  },
  {
   "cell_type": "markdown",
   "metadata": {},
   "source": [
    "Looks like there is an influx in counts during February (in between 200 and 300). The model seems to choose mostly those, however this may also be due to random chance since as we have found out while testing hypothesis 3, there is a higher number of tests taken over the years in February, March and April than in all other months. March and April are interesting, it looks as if the regression had a bias against them, since even though they had a lot of data points, February has a far higher count. But really there aren't enough predicted values equal to 1 to make much of a statement on how the regression makes a choice."
   ]
  },
  {
   "cell_type": "markdown",
   "metadata": {},
   "source": [
    "Overall, it doesn't look like we can trust the model much. It has a very strong bias against labeling people 'very happy', and if we look at the inputs for which it did return 'very happy' and the individual features they are comprised of, there isn't much correlation to the data exploration and statistical tests we have done on them throughout the notebook and the regressions choices."
   ]
  },
  {
   "cell_type": "markdown",
   "metadata": {},
   "source": [
    "Let's go through the assumption a linear regression makes to (hopefully) gain a better understanding of the choices it made. According to [this website](https://www.statisticssolutions.com/assumptions-of-logistic-regression/), the main assumptions are:\n",
    "\n",
    "-- NOT MY OWN WORDS --\n",
    "\n",
    "**1)** `Logistic regression does not require a linear relationship between the dependent and independent variables.`\n",
    "\n",
    "**2)** `The error terms (residuals) do not need to be normally distributed.  `\n",
    "\n",
    "**3)** `Homoscedasticity is not required.  `\n",
    "\n",
    "**4)** `The dependent variable in logistic regression is not measured on an interval or ratio scale.`\n",
    "\n",
    "`Other assumptions:`\n",
    "\n",
    "**1)** `Binary logistic regression requires the dependent variable to be binary and ordinal logistic regression requires the dependent variable to be ordinal.`\n",
    "\n",
    "**2)** `Logistic regression requires the observations to be independent of each other.  In other words, the observations should not come from repeated measurements or matched data.`\n",
    "\n",
    "**3)** `Logistic regression requires there to be little or no multicollinearity among the independent variables.  This means that the independent variables should not be too highly correlated with each other.`\n",
    "\n",
    "**4)** `Logistic regression assumes linearity of independent variables and log odds.  Although this analysis does not require the dependent and independent variables to be related linearly, it requires that the independent variables are linearly related to the log odds.`\n",
    "\n",
    "**5)** `Logistic regression typically requires a large sample size.  A general guideline is that you need at minimum of 10 cases with the least frequent outcome for each independent variable in your model. For example, if you have 5 independent variables and the expected probability of your least frequent outcome is .10, then you would need a minimum sample size of 500 (10*5 / .10).`\n",
    "\n",
    "-- MY OWN WORDS AGAIN --\n",
    "\n",
    "Following these notes, we can see that although the data does not have a linear relationship between the dependent and independent variables, and is not homoscedastic (meaning the sequence of random variables, in our case the features, do not all have the same finite variance). Furthermore, the data correctly has a binary dependent variable for binary logistic regression, the data points are independent from each other, the features are not highly correlated with each other. However we do not have enough data points according to the calculation shown in assumption 5 above, and I also do not think that the features are lineraly related to the log odds.\n",
    "\n",
    "Overall, it does seem like linear regression could work here, sure there isn't enough data available to really predict happiness well, and the features likely are not lineraly related to the log odds, but overal, the other assumptions are met perfectly. I believe we could expect the linear regression to do an okay job, however looking at the predicted y labels, it becomes clear that it really cannot correctly predict a person to be 'very happy' based on the features given.\n",
    "\n",
    "This leads me to believe that the fault of the prediction lies mainly in the features chosen."
   ]
  },
  {
   "cell_type": "markdown",
   "metadata": {},
   "source": [
    "## Extra Credit\n",
    "\n",
    "`Finally, try a multi-class classification model like a random forest, neural network, or support vector machine. How well or poorly does this work? Which variables contribute most to your model (i.e., can you explain what contributes most to happiness using this model?).`"
   ]
  },
  {
   "cell_type": "markdown",
   "metadata": {},
   "source": [
    "Finally, let's see what a Random Forest Classifier can do with the features! For this classifier, I would really prefer it be multiclass, however it will be difficult to find good parameters, so let's actually stick to the binary task. This also means we can use the same variables as before."
   ]
  },
  {
   "cell_type": "code",
   "execution_count": 225,
   "metadata": {},
   "outputs": [],
   "source": [
    "from sklearn.ensemble import RandomForestClassifier"
   ]
  },
  {
   "cell_type": "markdown",
   "metadata": {},
   "source": [
    "Let's use the default random forest classifier from SKLearn and see how it performs."
   ]
  },
  {
   "cell_type": "code",
   "execution_count": 227,
   "metadata": {},
   "outputs": [
    {
     "name": "stdout",
     "output_type": "stream",
     "text": [
      "Feature importances: [0.35770147 0.06288027 0.02618056 0.08920384 0.46403385]\n",
      "The AUC for the random forest is: 0.5148347966090129\n"
     ]
    }
   ],
   "source": [
    "clf = RandomForestClassifier()\n",
    "clf.fit(X_train, y_train)\n",
    "print(\"Feature importances: {}\".format(clf.feature_importances_))\n",
    "y_pred = clf.predict(X_test)\n",
    "\n",
    "false_positive_rate, true_positive_rate, thresholds = roc_curve(y_test, y_pred)\n",
    "roc_auc = auc(false_positive_rate, true_positive_rate)\n",
    "\n",
    "print(\"The AUC for the random forest is: {}\".format(roc_auc))"
   ]
  },
  {
   "cell_type": "markdown",
   "metadata": {},
   "source": [
    "So we get an Area Under the Curve of 0.515, which is still fairly bad, BUT it is at least better than the linear regression, and we are only using the default parameters! Let's see if we can make it better, though:"
   ]
  },
  {
   "cell_type": "code",
   "execution_count": 262,
   "metadata": {},
   "outputs": [
    {
     "name": "stdout",
     "output_type": "stream",
     "text": [
      "Best estimator is 5, and corresponding best AUC is 0.5265268945954114\n"
     ]
    }
   ],
   "source": [
    "n_estimators =list(np.arange(1, 10, 1)) + list(np.arange(10, 30, 2))\n",
    "train_AUCs = []\n",
    "test_AUCs = []\n",
    "\n",
    "for est in n_estimators:\n",
    "    clf = RandomForestClassifier(n_estimators=est)\n",
    "    clf.fit(X_train, y_train)\n",
    "    y_pred = clf.predict(X_test)\n",
    "    false_positive_rate, true_positive_rate, thresholds = roc_curve(y_test, y_pred)\n",
    "    roc_auc = auc(false_positive_rate, true_positive_rate)\n",
    "    test_AUCs.append((roc_auc, est))\n",
    "\n",
    "best_estimator = -1\n",
    "best_auc = 0.5\n",
    "for curAUC, estimator in test_AUCs:\n",
    "    if curAUC > best_auc:\n",
    "        best_auc = curAUC\n",
    "        best_estimator = estimator\n",
    "        \n",
    "print(\"Best estimator is {}, and corresponding best AUC is {}\".format(best_estimator, best_auc))"
   ]
  },
  {
   "cell_type": "code",
   "execution_count": 263,
   "metadata": {},
   "outputs": [
    {
     "name": "stdout",
     "output_type": "stream",
     "text": [
      "Using the best estimator, the best max-depth is 25, and corresponding best AUC is 0.5274233404926614\n"
     ]
    }
   ],
   "source": [
    "test_AUCs = []\n",
    "for max_depth in range(1, 50):\n",
    "    clf = RandomForestClassifier(n_estimators = best_estimator, max_depth=max_depth)\n",
    "    clf.fit(X_train, y_train)\n",
    "    y_pred = clf.predict(X_test)\n",
    "    false_positive_rate, true_positive_rate, thresholds = roc_curve(y_test, y_pred)\n",
    "    roc_auc = auc(false_positive_rate, true_positive_rate)\n",
    "    test_AUCs.append((roc_auc, max_depth))\n",
    "    \n",
    "best_depth = -1\n",
    "best_auc = 0.5\n",
    "for curAUC, depth in test_AUCs:\n",
    "    if curAUC > best_auc:\n",
    "        best_auc = curAUC\n",
    "        best_depth = depth\n",
    "        \n",
    "print(\"Using the best estimator, the best max-depth is {}, and corresponding best AUC is {}\".format(best_depth, best_auc))"
   ]
  },
  {
   "cell_type": "markdown",
   "metadata": {},
   "source": [
    "Based on these calculations, it doesn't seem like the Random Forest Classifier can do much better...\n",
    "\n",
    "Regardless, let's look at the feature importances:"
   ]
  },
  {
   "cell_type": "code",
   "execution_count": 268,
   "metadata": {},
   "outputs": [
    {
     "name": "stdout",
     "output_type": "stream",
     "text": [
      "Feature importances: [0. 0. 0. 0. 0.]\n",
      "[0]\n"
     ]
    }
   ],
   "source": [
    "clf = RandomForestClassifier(n_estimators=best_estimator, max_depth=best_auc)\n",
    "clf.fit(X_train, y_train)\n",
    "print(\"Feature importances: {}\".format(clf.feature_importances_))\n",
    "y_pred = clf.predict(X_test)\n",
    "print(pd.Series(y_pred).unique())"
   ]
  },
  {
   "cell_type": "markdown",
   "metadata": {},
   "source": [
    "So the random forest classifier actually learns to just choose 0 for every single data point...\n",
    "\n",
    "Based on this, unfortunately you really cannot learn which is the best feature to use for predicting happiness."
   ]
  },
  {
   "cell_type": "markdown",
   "metadata": {},
   "source": [
    "Let's try again, but this time using only rows that have all of the data available."
   ]
  },
  {
   "cell_type": "code",
   "execution_count": 269,
   "metadata": {},
   "outputs": [],
   "source": [
    "hapDf = hapDf.loc[(hapDf[\"HEALTH\"] != 0) & (hapDf[\"HEALTH\"] < 8)]\n",
    "hapDf = hapDf.loc[(hapDf[\"WRKSLF\"] != 0) & (hapDf[\"WRKSLF\"] < 8)]\n",
    "hapDf = hapDf.loc[(hapDf[\"RINCOME\"] != 0) & (hapDf[\"RINCOME\"] < 12)]\n",
    "hapDf = hapDf.loc[(hapDf[\"DATEINTV\"] != 0) & (hapDf[\"DATEINTV\"] < 8)]"
   ]
  },
  {
   "cell_type": "code",
   "execution_count": 270,
   "metadata": {},
   "outputs": [
    {
     "name": "stdout",
     "output_type": "stream",
     "text": [
      "(0, 6108)\n"
     ]
    }
   ],
   "source": [
    "print(hapDf.shape)"
   ]
  },
  {
   "cell_type": "markdown",
   "metadata": {},
   "source": [
    "Unfortunately, we can't do that, as there are no rows for which all of the data are available.\n",
    "\n",
    "I suppose this is where it all ends. There isn't one specific, clear answer to the questions that is if we can figure out which feature the classifier takes into account the most."
   ]
  },
  {
   "cell_type": "code",
   "execution_count": null,
   "metadata": {},
   "outputs": [],
   "source": []
  }
 ],
 "metadata": {
  "kernelspec": {
   "display_name": "Python 3",
   "language": "python",
   "name": "python3"
  },
  "language_info": {
   "codemirror_mode": {
    "name": "ipython",
    "version": 3
   },
   "file_extension": ".py",
   "mimetype": "text/x-python",
   "name": "python",
   "nbconvert_exporter": "python",
   "pygments_lexer": "ipython3",
   "version": "3.7.3"
  }
 },
 "nbformat": 4,
 "nbformat_minor": 2
}
